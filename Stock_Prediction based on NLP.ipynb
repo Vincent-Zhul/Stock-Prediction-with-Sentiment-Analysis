{
 "cells": [
  {
   "cell_type": "markdown",
   "metadata": {},
   "source": [
    "# <center> Stock Prediction Based on Twitter Sentiment Analysis —— Take United Airlines as Example\n",
    "## <center> *Designed by Zhu Lei*"
   ]
  },
  {
   "cell_type": "markdown",
   "metadata": {},
   "source": [
    "#### Importing machine learning libraries"
   ]
  },
  {
   "cell_type": "code",
   "execution_count": 2,
   "metadata": {
    "ExecuteTime": {
     "end_time": "2021-09-22T09:38:08.972017Z",
     "start_time": "2021-09-22T09:38:08.960019Z"
    }
   },
   "outputs": [],
   "source": [
    "import numpy as np\n",
    "import pandas as pd\n",
    "from nltk.classify import NaiveBayesClassifier\n",
    "from nltk.corpus import subjectivity\n",
    "from nltk.sentiment import SentimentAnalyzer\n",
    "from nltk.sentiment.util import *\n",
    "import matplotlib.pyplot as mlpt"
   ]
  },
  {
   "cell_type": "markdown",
   "metadata": {},
   "source": [
    "#### Importing library to fetch data from twitter"
   ]
  },
  {
   "cell_type": "code",
   "execution_count": 3,
   "metadata": {
    "ExecuteTime": {
     "end_time": "2021-09-22T09:38:09.389331Z",
     "start_time": "2021-09-22T09:38:09.385373Z"
    }
   },
   "outputs": [],
   "source": [
    "import tweepy\n",
    "import csv\n",
    "import pandas as pd\n",
    "import random\n",
    "import numpy as np\n",
    "import pandas as pd"
   ]
  },
  {
   "cell_type": "markdown",
   "metadata": {},
   "source": [
    "#### Setting up consumer key and access token which obtained from Twitter Developer(https://developer.twitter.com/en)"
   ]
  },
  {
   "cell_type": "code",
   "execution_count": 62,
   "metadata": {
    "ExecuteTime": {
     "end_time": "2021-09-22T09:38:09.824910Z",
     "start_time": "2021-09-22T09:38:09.818945Z"
    }
   },
   "outputs": [],
   "source": [
    "consumer_key    = '3jmA1BqasLHfItBXj3KnAIGFB'\n",
    "consumer_secret = 'imyEeVTctFZuK62QHmL1I0AUAMudg5HKJDfkx0oR7oFbFinbvA'\n",
    "\n",
    "access_token  = '265857263-pF1DRxgIcxUbxEEFtLwLODPzD3aMl6d4zOKlMnme'\n",
    "access_token_secret = 'uUFoOOGeNJfOYD3atlcmPtaxxniXxQzAU4ESJLopA1lbC'\n",
    "\n",
    "auth = tweepy.OAuthHandler(consumer_key, consumer_secret)\n",
    "auth.set_access_token(access_token, access_token_secret)\n",
    "api = tweepy.API(auth,wait_on_rate_limit=True)"
   ]
  },
  {
   "cell_type": "markdown",
   "metadata": {},
   "source": [
    "#### Fetching tweets for United Airlines in extended mode (means entire tweet will come and not just few words + link)"
   ]
  },
  {
   "cell_type": "code",
   "execution_count": 63,
   "metadata": {
    "ExecuteTime": {
     "end_time": "2021-09-22T09:38:18.943491Z",
     "start_time": "2021-09-22T09:38:10.988985Z"
    }
   },
   "outputs": [
    {
     "name": "stderr",
     "output_type": "stream",
     "text": [
      "Unexpected parameter: since\n",
      "Unexpected parameter: since\n",
      "Unexpected parameter: since\n",
      "Unexpected parameter: since\n",
      "Unexpected parameter: since\n",
      "Unexpected parameter: since\n",
      "Unexpected parameter: since\n"
     ]
    }
   ],
   "source": [
    "fetch_tweets=tweepy.Cursor(api.search_tweets, q=\"#unitedAIRLINES\",count=100, lang =\"en\",since=\"2022-7-01\", tweet_mode=\"extended\").items()\n",
    "data=pd.DataFrame(data=[[tweet_info.created_at.date(),tweet_info.full_text]for tweet_info in fetch_tweets],columns=['Date','Tweets'])"
   ]
  },
  {
   "cell_type": "code",
   "execution_count": 64,
   "metadata": {
    "ExecuteTime": {
     "end_time": "2021-09-22T09:38:19.008323Z",
     "start_time": "2021-09-22T09:38:14.144Z"
    }
   },
   "outputs": [
    {
     "data": {
      "text/html": [
       "<div>\n",
       "<style scoped>\n",
       "    .dataframe tbody tr th:only-of-type {\n",
       "        vertical-align: middle;\n",
       "    }\n",
       "\n",
       "    .dataframe tbody tr th {\n",
       "        vertical-align: top;\n",
       "    }\n",
       "\n",
       "    .dataframe thead th {\n",
       "        text-align: right;\n",
       "    }\n",
       "</style>\n",
       "<table border=\"1\" class=\"dataframe\">\n",
       "  <thead>\n",
       "    <tr style=\"text-align: right;\">\n",
       "      <th></th>\n",
       "      <th>Date</th>\n",
       "      <th>Tweets</th>\n",
       "    </tr>\n",
       "  </thead>\n",
       "  <tbody>\n",
       "    <tr>\n",
       "      <th>0</th>\n",
       "      <td>2022-07-30</td>\n",
       "      <td>United Airlines: \"Take Me Along\" (Michael Cimi...</td>\n",
       "    </tr>\n",
       "    <tr>\n",
       "      <th>1</th>\n",
       "      <td>2022-07-30</td>\n",
       "      <td>@rolandsmartin @united @BlkStarNetwork This is...</td>\n",
       "    </tr>\n",
       "    <tr>\n",
       "      <th>2</th>\n",
       "      <td>2022-07-30</td>\n",
       "      <td>My bag was 2 pounds overweight and #UnitedAirl...</td>\n",
       "    </tr>\n",
       "    <tr>\n",
       "      <th>3</th>\n",
       "      <td>2022-07-30</td>\n",
       "      <td>ICAO: A8CFFD\\nFlt: UAL940 #UnitedAirlines #EWR...</td>\n",
       "    </tr>\n",
       "    <tr>\n",
       "      <th>4</th>\n",
       "      <td>2022-07-30</td>\n",
       "      <td>#unitedairlines fucking sucks</td>\n",
       "    </tr>\n",
       "    <tr>\n",
       "      <th>...</th>\n",
       "      <td>...</td>\n",
       "      <td>...</td>\n",
       "    </tr>\n",
       "    <tr>\n",
       "      <th>512</th>\n",
       "      <td>2022-07-20</td>\n",
       "      <td>A slew of #earnings is expected to keep #inves...</td>\n",
       "    </tr>\n",
       "    <tr>\n",
       "      <th>513</th>\n",
       "      <td>2022-07-20</td>\n",
       "      <td>@united Is this true or false ? https://t.co/D...</td>\n",
       "    </tr>\n",
       "    <tr>\n",
       "      <th>514</th>\n",
       "      <td>2022-07-20</td>\n",
       "      <td>RT @wildlyartistic: @united you expect passeng...</td>\n",
       "    </tr>\n",
       "    <tr>\n",
       "      <th>515</th>\n",
       "      <td>2022-07-20</td>\n",
       "      <td>ICAO: A8CFFD\\nFlt: UAL272 #UnitedAirlines #EWR...</td>\n",
       "    </tr>\n",
       "    <tr>\n",
       "      <th>516</th>\n",
       "      <td>2022-07-20</td>\n",
       "      <td>#aviationdaily @SpiritAirlines plans crew base...</td>\n",
       "    </tr>\n",
       "  </tbody>\n",
       "</table>\n",
       "<p>517 rows × 2 columns</p>\n",
       "</div>"
      ],
      "text/plain": [
       "           Date                                             Tweets\n",
       "0    2022-07-30  United Airlines: \"Take Me Along\" (Michael Cimi...\n",
       "1    2022-07-30  @rolandsmartin @united @BlkStarNetwork This is...\n",
       "2    2022-07-30  My bag was 2 pounds overweight and #UnitedAirl...\n",
       "3    2022-07-30  ICAO: A8CFFD\\nFlt: UAL940 #UnitedAirlines #EWR...\n",
       "4    2022-07-30                      #unitedairlines fucking sucks\n",
       "..          ...                                                ...\n",
       "512  2022-07-20  A slew of #earnings is expected to keep #inves...\n",
       "513  2022-07-20  @united Is this true or false ? https://t.co/D...\n",
       "514  2022-07-20  RT @wildlyartistic: @united you expect passeng...\n",
       "515  2022-07-20  ICAO: A8CFFD\\nFlt: UAL272 #UnitedAirlines #EWR...\n",
       "516  2022-07-20  #aviationdaily @SpiritAirlines plans crew base...\n",
       "\n",
       "[517 rows x 2 columns]"
      ]
     },
     "execution_count": 64,
     "metadata": {},
     "output_type": "execute_result"
    }
   ],
   "source": [
    "data"
   ]
  },
  {
   "cell_type": "markdown",
   "metadata": {},
   "source": [
    "#### Removing special character from each tweets"
   ]
  },
  {
   "cell_type": "code",
   "execution_count": 65,
   "metadata": {
    "ExecuteTime": {
     "end_time": "2021-09-22T09:38:20.001041Z",
     "start_time": "2021-09-22T09:38:19.691867Z"
    }
   },
   "outputs": [],
   "source": [
    "data.to_csv(\"Tweets.csv\")\n",
    "cdata=pd.DataFrame(columns=['Date','Tweets'])\n",
    "total=100\n",
    "index=0\n",
    "for index,row in data.iterrows():\n",
    "    stre=row[\"Tweets\"]\n",
    "    my_new_string = re.sub('[^ a-zA-Z0-9]', '', stre)\n",
    "    temp_df = pd.DataFrame([[data[\"Date\"].iloc[index], \n",
    "                            my_new_string]], columns = ['Date','Tweets'])\n",
    "    cdata = pd.concat([cdata, temp_df], axis = 0).reset_index(drop = True)\n",
    "    # index=index+1\n",
    "#print(cdata.dtypes)"
   ]
  },
  {
   "cell_type": "markdown",
   "metadata": {},
   "source": [
    "#### Displaying the data with date and tweets and what will be notice is that there are multiple tweets for each day. So we will club them together later."
   ]
  },
  {
   "cell_type": "code",
   "execution_count": 66,
   "metadata": {
    "ExecuteTime": {
     "end_time": "2021-09-22T09:38:20.951711Z",
     "start_time": "2021-09-22T09:38:20.940741Z"
    }
   },
   "outputs": [
    {
     "data": {
      "text/html": [
       "<div>\n",
       "<style scoped>\n",
       "    .dataframe tbody tr th:only-of-type {\n",
       "        vertical-align: middle;\n",
       "    }\n",
       "\n",
       "    .dataframe tbody tr th {\n",
       "        vertical-align: top;\n",
       "    }\n",
       "\n",
       "    .dataframe thead th {\n",
       "        text-align: right;\n",
       "    }\n",
       "</style>\n",
       "<table border=\"1\" class=\"dataframe\">\n",
       "  <thead>\n",
       "    <tr style=\"text-align: right;\">\n",
       "      <th></th>\n",
       "      <th>Date</th>\n",
       "      <th>Tweets</th>\n",
       "    </tr>\n",
       "  </thead>\n",
       "  <tbody>\n",
       "    <tr>\n",
       "      <th>0</th>\n",
       "      <td>2022-07-30</td>\n",
       "      <td>United Airlines Take Me Along Michael Cimino 1...</td>\n",
       "    </tr>\n",
       "    <tr>\n",
       "      <th>1</th>\n",
       "      <td>2022-07-30</td>\n",
       "      <td>rolandsmartin united BlkStarNetwork This is ri...</td>\n",
       "    </tr>\n",
       "    <tr>\n",
       "      <th>2</th>\n",
       "      <td>2022-07-30</td>\n",
       "      <td>My bag was 2 pounds overweight and UnitedAirli...</td>\n",
       "    </tr>\n",
       "    <tr>\n",
       "      <th>3</th>\n",
       "      <td>2022-07-30</td>\n",
       "      <td>ICAO A8CFFDFlt UAL940 UnitedAirlines EWRLHRFir...</td>\n",
       "    </tr>\n",
       "    <tr>\n",
       "      <th>4</th>\n",
       "      <td>2022-07-30</td>\n",
       "      <td>unitedairlines fucking sucks</td>\n",
       "    </tr>\n",
       "    <tr>\n",
       "      <th>...</th>\n",
       "      <td>...</td>\n",
       "      <td>...</td>\n",
       "    </tr>\n",
       "    <tr>\n",
       "      <th>512</th>\n",
       "      <td>2022-07-20</td>\n",
       "      <td>A slew of earnings is expected to keep investo...</td>\n",
       "    </tr>\n",
       "    <tr>\n",
       "      <th>513</th>\n",
       "      <td>2022-07-20</td>\n",
       "      <td>united Is this true or false  httpstcoDvPrrKiT...</td>\n",
       "    </tr>\n",
       "    <tr>\n",
       "      <th>514</th>\n",
       "      <td>2022-07-20</td>\n",
       "      <td>RT wildlyartistic united you expect passengers...</td>\n",
       "    </tr>\n",
       "    <tr>\n",
       "      <th>515</th>\n",
       "      <td>2022-07-20</td>\n",
       "      <td>ICAO A8CFFDFlt UAL272 UnitedAirlines EWRNCEFir...</td>\n",
       "    </tr>\n",
       "    <tr>\n",
       "      <th>516</th>\n",
       "      <td>2022-07-20</td>\n",
       "      <td>aviationdaily SpiritAirlines plans crew base i...</td>\n",
       "    </tr>\n",
       "  </tbody>\n",
       "</table>\n",
       "<p>517 rows × 2 columns</p>\n",
       "</div>"
      ],
      "text/plain": [
       "           Date                                             Tweets\n",
       "0    2022-07-30  United Airlines Take Me Along Michael Cimino 1...\n",
       "1    2022-07-30  rolandsmartin united BlkStarNetwork This is ri...\n",
       "2    2022-07-30  My bag was 2 pounds overweight and UnitedAirli...\n",
       "3    2022-07-30  ICAO A8CFFDFlt UAL940 UnitedAirlines EWRLHRFir...\n",
       "4    2022-07-30                       unitedairlines fucking sucks\n",
       "..          ...                                                ...\n",
       "512  2022-07-20  A slew of earnings is expected to keep investo...\n",
       "513  2022-07-20  united Is this true or false  httpstcoDvPrrKiT...\n",
       "514  2022-07-20  RT wildlyartistic united you expect passengers...\n",
       "515  2022-07-20  ICAO A8CFFDFlt UAL272 UnitedAirlines EWRNCEFir...\n",
       "516  2022-07-20  aviationdaily SpiritAirlines plans crew base i...\n",
       "\n",
       "[517 rows x 2 columns]"
      ]
     },
     "execution_count": 66,
     "metadata": {},
     "output_type": "execute_result"
    }
   ],
   "source": [
    "cdata"
   ]
  },
  {
   "cell_type": "markdown",
   "metadata": {},
   "source": [
    "#### Creating a dataframe where we will combine the tweets date wise and store into \"ccdata\""
   ]
  },
  {
   "cell_type": "code",
   "execution_count": 67,
   "metadata": {
    "ExecuteTime": {
     "end_time": "2021-09-22T09:38:22.094898Z",
     "start_time": "2021-09-22T09:38:22.075919Z"
    }
   },
   "outputs": [],
   "source": [
    "ccdata=pd.DataFrame(columns=['Date','Tweets'])"
   ]
  },
  {
   "cell_type": "code",
   "execution_count": 68,
   "metadata": {
    "ExecuteTime": {
     "end_time": "2021-09-22T09:38:22.530962Z",
     "start_time": "2021-09-22T09:38:22.491788Z"
    }
   },
   "outputs": [],
   "source": [
    "indx=0\n",
    "get_tweet=\"\"\n",
    "for i in range(0,len(cdata)-1):\n",
    "    get_date=cdata.Date.iloc[i]\n",
    "    next_date=cdata.Date.iloc[i+1]\n",
    "    if(str(get_date)==str(next_date)):\n",
    "        get_tweet=get_tweet+cdata.Tweets.iloc[i]+\" \"\n",
    "    if(str(get_date)!=str(next_date)):\n",
    "        temp_df = pd.DataFrame([[get_date, \n",
    "                                get_tweet]], columns = ['Date','Tweets'])\n",
    "        ccdata = pd.concat([ccdata, temp_df], axis = 0).reset_index(drop = True)\n",
    "        get_tweet=\" \""
   ]
  },
  {
   "cell_type": "markdown",
   "metadata": {},
   "source": [
    "#### All the tweets has been clubbed as per their date.\n",
    "#### And we can take a look."
   ]
  },
  {
   "cell_type": "code",
   "execution_count": 69,
   "metadata": {
    "ExecuteTime": {
     "end_time": "2021-09-22T09:38:23.249425Z",
     "start_time": "2021-09-22T09:38:23.239458Z"
    }
   },
   "outputs": [
    {
     "data": {
      "text/html": [
       "<div>\n",
       "<style scoped>\n",
       "    .dataframe tbody tr th:only-of-type {\n",
       "        vertical-align: middle;\n",
       "    }\n",
       "\n",
       "    .dataframe tbody tr th {\n",
       "        vertical-align: top;\n",
       "    }\n",
       "\n",
       "    .dataframe thead th {\n",
       "        text-align: right;\n",
       "    }\n",
       "</style>\n",
       "<table border=\"1\" class=\"dataframe\">\n",
       "  <thead>\n",
       "    <tr style=\"text-align: right;\">\n",
       "      <th></th>\n",
       "      <th>Date</th>\n",
       "      <th>Tweets</th>\n",
       "    </tr>\n",
       "  </thead>\n",
       "  <tbody>\n",
       "    <tr>\n",
       "      <th>0</th>\n",
       "      <td>2022-07-30</td>\n",
       "      <td>United Airlines Take Me Along Michael Cimino 1...</td>\n",
       "    </tr>\n",
       "    <tr>\n",
       "      <th>1</th>\n",
       "      <td>2022-07-29</td>\n",
       "      <td>Delayed flight from BTR got me to my gate in ...</td>\n",
       "    </tr>\n",
       "    <tr>\n",
       "      <th>2</th>\n",
       "      <td>2022-07-28</td>\n",
       "      <td>Hello united Im one of your pilot Need your s...</td>\n",
       "    </tr>\n",
       "    <tr>\n",
       "      <th>3</th>\n",
       "      <td>2022-07-27</td>\n",
       "      <td>united UA1431 from LAX to HNL delayed again t...</td>\n",
       "    </tr>\n",
       "    <tr>\n",
       "      <th>4</th>\n",
       "      <td>2022-07-26</td>\n",
       "      <td>RT diecastryan SFO terminal G at sunset sfo s...</td>\n",
       "    </tr>\n",
       "    <tr>\n",
       "      <th>5</th>\n",
       "      <td>2022-07-25</td>\n",
       "      <td>RT diecastryan SFO terminal G at sunset sfo s...</td>\n",
       "    </tr>\n",
       "    <tr>\n",
       "      <th>6</th>\n",
       "      <td>2022-07-24</td>\n",
       "      <td>RT USASWW1 JudahBDavis amtrackmacon3 templefu...</td>\n",
       "    </tr>\n",
       "    <tr>\n",
       "      <th>7</th>\n",
       "      <td>2022-07-23</td>\n",
       "      <td>United Airlines to Axe 50 Daily Flights at Ne...</td>\n",
       "    </tr>\n",
       "    <tr>\n",
       "      <th>8</th>\n",
       "      <td>2022-07-22</td>\n",
       "      <td>UnitedAirlines on a flight from AZ to EWR and...</td>\n",
       "    </tr>\n",
       "    <tr>\n",
       "      <th>9</th>\n",
       "      <td>2022-07-21</td>\n",
       "      <td>Had united told be before I got on their plan...</td>\n",
       "    </tr>\n",
       "  </tbody>\n",
       "</table>\n",
       "</div>"
      ],
      "text/plain": [
       "         Date                                             Tweets\n",
       "0  2022-07-30  United Airlines Take Me Along Michael Cimino 1...\n",
       "1  2022-07-29   Delayed flight from BTR got me to my gate in ...\n",
       "2  2022-07-28   Hello united Im one of your pilot Need your s...\n",
       "3  2022-07-27   united UA1431 from LAX to HNL delayed again t...\n",
       "4  2022-07-26   RT diecastryan SFO terminal G at sunset sfo s...\n",
       "5  2022-07-25   RT diecastryan SFO terminal G at sunset sfo s...\n",
       "6  2022-07-24   RT USASWW1 JudahBDavis amtrackmacon3 templefu...\n",
       "7  2022-07-23   United Airlines to Axe 50 Daily Flights at Ne...\n",
       "8  2022-07-22   UnitedAirlines on a flight from AZ to EWR and...\n",
       "9  2022-07-21   Had united told be before I got on their plan..."
      ]
     },
     "execution_count": 69,
     "metadata": {},
     "output_type": "execute_result"
    }
   ],
   "source": [
    "ccdata"
   ]
  },
  {
   "cell_type": "markdown",
   "metadata": {},
   "source": [
    "#### Now to know the \"closing price\" of each day we will import STOCK PRICE DATA for UNITED AIRLINES from \"yahoo.finance\"(https://finance.yahoo.com/quote/UAL/history?period1=1625097600&period2=1659139200&interval=1d&filter=history&frequency=1d&includeAdjustedClose=true). We will consider \"Close\" price only."
   ]
  },
  {
   "cell_type": "code",
   "execution_count": 70,
   "metadata": {
    "ExecuteTime": {
     "end_time": "2021-09-22T09:38:24.417614Z",
     "start_time": "2021-09-22T09:38:24.386698Z"
    }
   },
   "outputs": [
    {
     "data": {
      "text/html": [
       "<div>\n",
       "<style scoped>\n",
       "    .dataframe tbody tr th:only-of-type {\n",
       "        vertical-align: middle;\n",
       "    }\n",
       "\n",
       "    .dataframe tbody tr th {\n",
       "        vertical-align: top;\n",
       "    }\n",
       "\n",
       "    .dataframe thead th {\n",
       "        text-align: right;\n",
       "    }\n",
       "</style>\n",
       "<table border=\"1\" class=\"dataframe\">\n",
       "  <thead>\n",
       "    <tr style=\"text-align: right;\">\n",
       "      <th></th>\n",
       "      <th>Date</th>\n",
       "      <th>Open</th>\n",
       "      <th>High</th>\n",
       "      <th>Low</th>\n",
       "      <th>Close</th>\n",
       "      <th>Adj Close</th>\n",
       "      <th>Volume</th>\n",
       "    </tr>\n",
       "  </thead>\n",
       "  <tbody>\n",
       "    <tr>\n",
       "      <th>0</th>\n",
       "      <td>2021-07-01</td>\n",
       "      <td>52.790001</td>\n",
       "      <td>53.759998</td>\n",
       "      <td>52.689999</td>\n",
       "      <td>53.080002</td>\n",
       "      <td>53.080002</td>\n",
       "      <td>8577600</td>\n",
       "    </tr>\n",
       "    <tr>\n",
       "      <th>1</th>\n",
       "      <td>2021-07-02</td>\n",
       "      <td>53.169998</td>\n",
       "      <td>53.169998</td>\n",
       "      <td>52.090000</td>\n",
       "      <td>52.770000</td>\n",
       "      <td>52.770000</td>\n",
       "      <td>9205500</td>\n",
       "    </tr>\n",
       "    <tr>\n",
       "      <th>2</th>\n",
       "      <td>2021-07-06</td>\n",
       "      <td>52.680000</td>\n",
       "      <td>53.209999</td>\n",
       "      <td>51.020000</td>\n",
       "      <td>51.439999</td>\n",
       "      <td>51.439999</td>\n",
       "      <td>10652300</td>\n",
       "    </tr>\n",
       "    <tr>\n",
       "      <th>3</th>\n",
       "      <td>2021-07-07</td>\n",
       "      <td>51.040001</td>\n",
       "      <td>51.869999</td>\n",
       "      <td>49.779999</td>\n",
       "      <td>50.299999</td>\n",
       "      <td>50.299999</td>\n",
       "      <td>12719100</td>\n",
       "    </tr>\n",
       "    <tr>\n",
       "      <th>4</th>\n",
       "      <td>2021-07-08</td>\n",
       "      <td>49.080002</td>\n",
       "      <td>50.520000</td>\n",
       "      <td>48.570000</td>\n",
       "      <td>49.660000</td>\n",
       "      <td>49.660000</td>\n",
       "      <td>13207800</td>\n",
       "    </tr>\n",
       "    <tr>\n",
       "      <th>...</th>\n",
       "      <td>...</td>\n",
       "      <td>...</td>\n",
       "      <td>...</td>\n",
       "      <td>...</td>\n",
       "      <td>...</td>\n",
       "      <td>...</td>\n",
       "      <td>...</td>\n",
       "    </tr>\n",
       "    <tr>\n",
       "      <th>266</th>\n",
       "      <td>2022-07-22</td>\n",
       "      <td>37.799999</td>\n",
       "      <td>38.250000</td>\n",
       "      <td>36.020000</td>\n",
       "      <td>36.330002</td>\n",
       "      <td>36.330002</td>\n",
       "      <td>14562900</td>\n",
       "    </tr>\n",
       "    <tr>\n",
       "      <th>267</th>\n",
       "      <td>2022-07-25</td>\n",
       "      <td>36.029999</td>\n",
       "      <td>36.410000</td>\n",
       "      <td>35.189999</td>\n",
       "      <td>36.340000</td>\n",
       "      <td>36.340000</td>\n",
       "      <td>10186900</td>\n",
       "    </tr>\n",
       "    <tr>\n",
       "      <th>268</th>\n",
       "      <td>2022-07-26</td>\n",
       "      <td>35.759998</td>\n",
       "      <td>36.139999</td>\n",
       "      <td>35.279999</td>\n",
       "      <td>35.340000</td>\n",
       "      <td>35.340000</td>\n",
       "      <td>8151700</td>\n",
       "    </tr>\n",
       "    <tr>\n",
       "      <th>269</th>\n",
       "      <td>2022-07-27</td>\n",
       "      <td>36.180000</td>\n",
       "      <td>36.740002</td>\n",
       "      <td>35.290001</td>\n",
       "      <td>36.419998</td>\n",
       "      <td>36.419998</td>\n",
       "      <td>10580700</td>\n",
       "    </tr>\n",
       "    <tr>\n",
       "      <th>270</th>\n",
       "      <td>2022-07-28</td>\n",
       "      <td>35.860001</td>\n",
       "      <td>36.849998</td>\n",
       "      <td>35.400002</td>\n",
       "      <td>36.740002</td>\n",
       "      <td>36.740002</td>\n",
       "      <td>10248700</td>\n",
       "    </tr>\n",
       "  </tbody>\n",
       "</table>\n",
       "<p>271 rows × 7 columns</p>\n",
       "</div>"
      ],
      "text/plain": [
       "           Date       Open       High        Low      Close  Adj Close  \\\n",
       "0    2021-07-01  52.790001  53.759998  52.689999  53.080002  53.080002   \n",
       "1    2021-07-02  53.169998  53.169998  52.090000  52.770000  52.770000   \n",
       "2    2021-07-06  52.680000  53.209999  51.020000  51.439999  51.439999   \n",
       "3    2021-07-07  51.040001  51.869999  49.779999  50.299999  50.299999   \n",
       "4    2021-07-08  49.080002  50.520000  48.570000  49.660000  49.660000   \n",
       "..          ...        ...        ...        ...        ...        ...   \n",
       "266  2022-07-22  37.799999  38.250000  36.020000  36.330002  36.330002   \n",
       "267  2022-07-25  36.029999  36.410000  35.189999  36.340000  36.340000   \n",
       "268  2022-07-26  35.759998  36.139999  35.279999  35.340000  35.340000   \n",
       "269  2022-07-27  36.180000  36.740002  35.290001  36.419998  36.419998   \n",
       "270  2022-07-28  35.860001  36.849998  35.400002  36.740002  36.740002   \n",
       "\n",
       "       Volume  \n",
       "0     8577600  \n",
       "1     9205500  \n",
       "2    10652300  \n",
       "3    12719100  \n",
       "4    13207800  \n",
       "..        ...  \n",
       "266  14562900  \n",
       "267  10186900  \n",
       "268   8151700  \n",
       "269  10580700  \n",
       "270  10248700  \n",
       "\n",
       "[271 rows x 7 columns]"
      ]
     },
     "execution_count": 70,
     "metadata": {},
     "output_type": "execute_result"
    }
   ],
   "source": [
    "read_stock_p = pd.read_csv('UAL.csv')\n",
    "read_stock_p"
   ]
  },
  {
   "cell_type": "markdown",
   "metadata": {},
   "source": [
    "#### Adding a \"Price\" column in our dataframe and fetching the stock price as per the date in our dataframe."
   ]
  },
  {
   "cell_type": "code",
   "execution_count": 71,
   "metadata": {
    "ExecuteTime": {
     "end_time": "2021-09-22T09:38:25.665268Z",
     "start_time": "2021-09-22T09:38:25.661310Z"
    }
   },
   "outputs": [],
   "source": [
    "ccdata['Prices']=\"\""
   ]
  },
  {
   "cell_type": "code",
   "execution_count": 72,
   "metadata": {
    "ExecuteTime": {
     "end_time": "2021-09-22T09:39:33.585643Z",
     "start_time": "2021-09-22T09:39:33.509806Z"
    }
   },
   "outputs": [],
   "source": [
    "indx=0\n",
    "for i in range (0,len(ccdata)):\n",
    "    for j in range (0,len(read_stock_p)):\n",
    "        get_tweet_date=ccdata.Date.iloc[i]\n",
    "        get_stock_date=read_stock_p.Date.iloc[j]\n",
    "        if(str(get_stock_date)==str(get_tweet_date)):\n",
    "            #print(get_stock_date,\" \",get_tweet_date)\n",
    "            # ccdata.set_value(i,'Prices',int(read_stock_p.Close[j]))\n",
    "            ccdata['Prices'].iloc[i] = int(read_stock_p.Close[j])"
   ]
  },
  {
   "cell_type": "markdown",
   "metadata": {},
   "source": [
    "#### Prices are fetched but some entires are blank as close price might not be available for that day due to some reason (like holiday, etc.)"
   ]
  },
  {
   "cell_type": "code",
   "execution_count": 73,
   "metadata": {
    "ExecuteTime": {
     "end_time": "2021-09-22T09:39:34.774346Z",
     "start_time": "2021-09-22T09:39:34.754395Z"
    },
    "scrolled": true
   },
   "outputs": [
    {
     "data": {
      "text/html": [
       "<div>\n",
       "<style scoped>\n",
       "    .dataframe tbody tr th:only-of-type {\n",
       "        vertical-align: middle;\n",
       "    }\n",
       "\n",
       "    .dataframe tbody tr th {\n",
       "        vertical-align: top;\n",
       "    }\n",
       "\n",
       "    .dataframe thead th {\n",
       "        text-align: right;\n",
       "    }\n",
       "</style>\n",
       "<table border=\"1\" class=\"dataframe\">\n",
       "  <thead>\n",
       "    <tr style=\"text-align: right;\">\n",
       "      <th></th>\n",
       "      <th>Date</th>\n",
       "      <th>Tweets</th>\n",
       "      <th>Prices</th>\n",
       "    </tr>\n",
       "  </thead>\n",
       "  <tbody>\n",
       "    <tr>\n",
       "      <th>0</th>\n",
       "      <td>2022-07-30</td>\n",
       "      <td>United Airlines Take Me Along Michael Cimino 1...</td>\n",
       "      <td></td>\n",
       "    </tr>\n",
       "    <tr>\n",
       "      <th>1</th>\n",
       "      <td>2022-07-29</td>\n",
       "      <td>Delayed flight from BTR got me to my gate in ...</td>\n",
       "      <td></td>\n",
       "    </tr>\n",
       "    <tr>\n",
       "      <th>2</th>\n",
       "      <td>2022-07-28</td>\n",
       "      <td>Hello united Im one of your pilot Need your s...</td>\n",
       "      <td>36</td>\n",
       "    </tr>\n",
       "    <tr>\n",
       "      <th>3</th>\n",
       "      <td>2022-07-27</td>\n",
       "      <td>united UA1431 from LAX to HNL delayed again t...</td>\n",
       "      <td>36</td>\n",
       "    </tr>\n",
       "    <tr>\n",
       "      <th>4</th>\n",
       "      <td>2022-07-26</td>\n",
       "      <td>RT diecastryan SFO terminal G at sunset sfo s...</td>\n",
       "      <td>35</td>\n",
       "    </tr>\n",
       "    <tr>\n",
       "      <th>5</th>\n",
       "      <td>2022-07-25</td>\n",
       "      <td>RT diecastryan SFO terminal G at sunset sfo s...</td>\n",
       "      <td>36</td>\n",
       "    </tr>\n",
       "    <tr>\n",
       "      <th>6</th>\n",
       "      <td>2022-07-24</td>\n",
       "      <td>RT USASWW1 JudahBDavis amtrackmacon3 templefu...</td>\n",
       "      <td></td>\n",
       "    </tr>\n",
       "    <tr>\n",
       "      <th>7</th>\n",
       "      <td>2022-07-23</td>\n",
       "      <td>United Airlines to Axe 50 Daily Flights at Ne...</td>\n",
       "      <td></td>\n",
       "    </tr>\n",
       "    <tr>\n",
       "      <th>8</th>\n",
       "      <td>2022-07-22</td>\n",
       "      <td>UnitedAirlines on a flight from AZ to EWR and...</td>\n",
       "      <td>36</td>\n",
       "    </tr>\n",
       "    <tr>\n",
       "      <th>9</th>\n",
       "      <td>2022-07-21</td>\n",
       "      <td>Had united told be before I got on their plan...</td>\n",
       "      <td>37</td>\n",
       "    </tr>\n",
       "  </tbody>\n",
       "</table>\n",
       "</div>"
      ],
      "text/plain": [
       "         Date                                             Tweets Prices\n",
       "0  2022-07-30  United Airlines Take Me Along Michael Cimino 1...       \n",
       "1  2022-07-29   Delayed flight from BTR got me to my gate in ...       \n",
       "2  2022-07-28   Hello united Im one of your pilot Need your s...     36\n",
       "3  2022-07-27   united UA1431 from LAX to HNL delayed again t...     36\n",
       "4  2022-07-26   RT diecastryan SFO terminal G at sunset sfo s...     35\n",
       "5  2022-07-25   RT diecastryan SFO terminal G at sunset sfo s...     36\n",
       "6  2022-07-24   RT USASWW1 JudahBDavis amtrackmacon3 templefu...       \n",
       "7  2022-07-23   United Airlines to Axe 50 Daily Flights at Ne...       \n",
       "8  2022-07-22   UnitedAirlines on a flight from AZ to EWR and...     36\n",
       "9  2022-07-21   Had united told be before I got on their plan...     37"
      ]
     },
     "execution_count": 73,
     "metadata": {},
     "output_type": "execute_result"
    }
   ],
   "source": [
    "ccdata"
   ]
  },
  {
   "cell_type": "markdown",
   "metadata": {},
   "source": [
    "#### So we take the mean for the close price and put it in the blank value"
   ]
  },
  {
   "cell_type": "code",
   "execution_count": 74,
   "metadata": {
    "ExecuteTime": {
     "end_time": "2021-09-22T09:39:37.144442Z",
     "start_time": "2021-09-22T09:39:37.126487Z"
    }
   },
   "outputs": [],
   "source": [
    "mean=0\n",
    "summ=0\n",
    "count=0\n",
    "for i in range(0,len(ccdata)):\n",
    "    if(ccdata.Prices.iloc[i]!=\"\"):\n",
    "        summ=summ+int(ccdata.Prices.iloc[i])\n",
    "        count=count+1\n",
    "mean=summ/count\n",
    "for i in range(0,len(ccdata)):\n",
    "    if(ccdata.Prices.iloc[i]==\"\"):\n",
    "        ccdata.Prices.iloc[i]=int(mean)"
   ]
  },
  {
   "cell_type": "markdown",
   "metadata": {},
   "source": [
    "#### Now all the entries have some value"
   ]
  },
  {
   "cell_type": "code",
   "execution_count": 75,
   "metadata": {
    "ExecuteTime": {
     "end_time": "2021-09-22T09:39:39.559565Z",
     "start_time": "2021-09-22T09:39:39.547599Z"
    }
   },
   "outputs": [
    {
     "data": {
      "text/html": [
       "<div>\n",
       "<style scoped>\n",
       "    .dataframe tbody tr th:only-of-type {\n",
       "        vertical-align: middle;\n",
       "    }\n",
       "\n",
       "    .dataframe tbody tr th {\n",
       "        vertical-align: top;\n",
       "    }\n",
       "\n",
       "    .dataframe thead th {\n",
       "        text-align: right;\n",
       "    }\n",
       "</style>\n",
       "<table border=\"1\" class=\"dataframe\">\n",
       "  <thead>\n",
       "    <tr style=\"text-align: right;\">\n",
       "      <th></th>\n",
       "      <th>Date</th>\n",
       "      <th>Tweets</th>\n",
       "      <th>Prices</th>\n",
       "    </tr>\n",
       "  </thead>\n",
       "  <tbody>\n",
       "    <tr>\n",
       "      <th>0</th>\n",
       "      <td>2022-07-30</td>\n",
       "      <td>United Airlines Take Me Along Michael Cimino 1...</td>\n",
       "      <td>36</td>\n",
       "    </tr>\n",
       "    <tr>\n",
       "      <th>1</th>\n",
       "      <td>2022-07-29</td>\n",
       "      <td>Delayed flight from BTR got me to my gate in ...</td>\n",
       "      <td>36</td>\n",
       "    </tr>\n",
       "    <tr>\n",
       "      <th>2</th>\n",
       "      <td>2022-07-28</td>\n",
       "      <td>Hello united Im one of your pilot Need your s...</td>\n",
       "      <td>36</td>\n",
       "    </tr>\n",
       "    <tr>\n",
       "      <th>3</th>\n",
       "      <td>2022-07-27</td>\n",
       "      <td>united UA1431 from LAX to HNL delayed again t...</td>\n",
       "      <td>36</td>\n",
       "    </tr>\n",
       "    <tr>\n",
       "      <th>4</th>\n",
       "      <td>2022-07-26</td>\n",
       "      <td>RT diecastryan SFO terminal G at sunset sfo s...</td>\n",
       "      <td>35</td>\n",
       "    </tr>\n",
       "    <tr>\n",
       "      <th>5</th>\n",
       "      <td>2022-07-25</td>\n",
       "      <td>RT diecastryan SFO terminal G at sunset sfo s...</td>\n",
       "      <td>36</td>\n",
       "    </tr>\n",
       "    <tr>\n",
       "      <th>6</th>\n",
       "      <td>2022-07-24</td>\n",
       "      <td>RT USASWW1 JudahBDavis amtrackmacon3 templefu...</td>\n",
       "      <td>36</td>\n",
       "    </tr>\n",
       "    <tr>\n",
       "      <th>7</th>\n",
       "      <td>2022-07-23</td>\n",
       "      <td>United Airlines to Axe 50 Daily Flights at Ne...</td>\n",
       "      <td>36</td>\n",
       "    </tr>\n",
       "    <tr>\n",
       "      <th>8</th>\n",
       "      <td>2022-07-22</td>\n",
       "      <td>UnitedAirlines on a flight from AZ to EWR and...</td>\n",
       "      <td>36</td>\n",
       "    </tr>\n",
       "    <tr>\n",
       "      <th>9</th>\n",
       "      <td>2022-07-21</td>\n",
       "      <td>Had united told be before I got on their plan...</td>\n",
       "      <td>37</td>\n",
       "    </tr>\n",
       "  </tbody>\n",
       "</table>\n",
       "</div>"
      ],
      "text/plain": [
       "         Date                                             Tweets Prices\n",
       "0  2022-07-30  United Airlines Take Me Along Michael Cimino 1...     36\n",
       "1  2022-07-29   Delayed flight from BTR got me to my gate in ...     36\n",
       "2  2022-07-28   Hello united Im one of your pilot Need your s...     36\n",
       "3  2022-07-27   united UA1431 from LAX to HNL delayed again t...     36\n",
       "4  2022-07-26   RT diecastryan SFO terminal G at sunset sfo s...     35\n",
       "5  2022-07-25   RT diecastryan SFO terminal G at sunset sfo s...     36\n",
       "6  2022-07-24   RT USASWW1 JudahBDavis amtrackmacon3 templefu...     36\n",
       "7  2022-07-23   United Airlines to Axe 50 Daily Flights at Ne...     36\n",
       "8  2022-07-22   UnitedAirlines on a flight from AZ to EWR and...     36\n",
       "9  2022-07-21   Had united told be before I got on their plan...     37"
      ]
     },
     "execution_count": 75,
     "metadata": {},
     "output_type": "execute_result"
    }
   ],
   "source": [
    "ccdata"
   ]
  },
  {
   "cell_type": "markdown",
   "metadata": {},
   "source": [
    "#### Making \"prices\" column as integer so mathematical operations could be performed easily."
   ]
  },
  {
   "cell_type": "code",
   "execution_count": 76,
   "metadata": {
    "ExecuteTime": {
     "end_time": "2021-09-22T09:39:41.884443Z",
     "start_time": "2021-09-22T09:39:41.873474Z"
    }
   },
   "outputs": [],
   "source": [
    "ccdata['Prices'] = ccdata['Prices'].apply(np.int64)"
   ]
  },
  {
   "cell_type": "markdown",
   "metadata": {},
   "source": [
    "#### Adding 4 new columns in our dataframe so that sentiment analysis could be performed.. Comp is \"Compound\" it will tell whether the statement is overall negative or positive. If it has negative value then it is negative, if it has positive value then it is positive. If it has value 0, then it is neutral."
   ]
  },
  {
   "cell_type": "code",
   "execution_count": 77,
   "metadata": {
    "ExecuteTime": {
     "end_time": "2021-09-22T09:39:42.917283Z",
     "start_time": "2021-09-22T09:39:42.894365Z"
    }
   },
   "outputs": [
    {
     "data": {
      "text/html": [
       "<div>\n",
       "<style scoped>\n",
       "    .dataframe tbody tr th:only-of-type {\n",
       "        vertical-align: middle;\n",
       "    }\n",
       "\n",
       "    .dataframe tbody tr th {\n",
       "        vertical-align: top;\n",
       "    }\n",
       "\n",
       "    .dataframe thead th {\n",
       "        text-align: right;\n",
       "    }\n",
       "</style>\n",
       "<table border=\"1\" class=\"dataframe\">\n",
       "  <thead>\n",
       "    <tr style=\"text-align: right;\">\n",
       "      <th></th>\n",
       "      <th>Date</th>\n",
       "      <th>Tweets</th>\n",
       "      <th>Prices</th>\n",
       "      <th>Comp</th>\n",
       "      <th>Negative</th>\n",
       "      <th>Neutral</th>\n",
       "      <th>Positive</th>\n",
       "    </tr>\n",
       "  </thead>\n",
       "  <tbody>\n",
       "    <tr>\n",
       "      <th>0</th>\n",
       "      <td>2022-07-30</td>\n",
       "      <td>United Airlines Take Me Along Michael Cimino 1...</td>\n",
       "      <td>36</td>\n",
       "      <td></td>\n",
       "      <td></td>\n",
       "      <td></td>\n",
       "      <td></td>\n",
       "    </tr>\n",
       "    <tr>\n",
       "      <th>1</th>\n",
       "      <td>2022-07-29</td>\n",
       "      <td>Delayed flight from BTR got me to my gate in ...</td>\n",
       "      <td>36</td>\n",
       "      <td></td>\n",
       "      <td></td>\n",
       "      <td></td>\n",
       "      <td></td>\n",
       "    </tr>\n",
       "    <tr>\n",
       "      <th>2</th>\n",
       "      <td>2022-07-28</td>\n",
       "      <td>Hello united Im one of your pilot Need your s...</td>\n",
       "      <td>36</td>\n",
       "      <td></td>\n",
       "      <td></td>\n",
       "      <td></td>\n",
       "      <td></td>\n",
       "    </tr>\n",
       "    <tr>\n",
       "      <th>3</th>\n",
       "      <td>2022-07-27</td>\n",
       "      <td>united UA1431 from LAX to HNL delayed again t...</td>\n",
       "      <td>36</td>\n",
       "      <td></td>\n",
       "      <td></td>\n",
       "      <td></td>\n",
       "      <td></td>\n",
       "    </tr>\n",
       "    <tr>\n",
       "      <th>4</th>\n",
       "      <td>2022-07-26</td>\n",
       "      <td>RT diecastryan SFO terminal G at sunset sfo s...</td>\n",
       "      <td>35</td>\n",
       "      <td></td>\n",
       "      <td></td>\n",
       "      <td></td>\n",
       "      <td></td>\n",
       "    </tr>\n",
       "    <tr>\n",
       "      <th>5</th>\n",
       "      <td>2022-07-25</td>\n",
       "      <td>RT diecastryan SFO terminal G at sunset sfo s...</td>\n",
       "      <td>36</td>\n",
       "      <td></td>\n",
       "      <td></td>\n",
       "      <td></td>\n",
       "      <td></td>\n",
       "    </tr>\n",
       "    <tr>\n",
       "      <th>6</th>\n",
       "      <td>2022-07-24</td>\n",
       "      <td>RT USASWW1 JudahBDavis amtrackmacon3 templefu...</td>\n",
       "      <td>36</td>\n",
       "      <td></td>\n",
       "      <td></td>\n",
       "      <td></td>\n",
       "      <td></td>\n",
       "    </tr>\n",
       "    <tr>\n",
       "      <th>7</th>\n",
       "      <td>2022-07-23</td>\n",
       "      <td>United Airlines to Axe 50 Daily Flights at Ne...</td>\n",
       "      <td>36</td>\n",
       "      <td></td>\n",
       "      <td></td>\n",
       "      <td></td>\n",
       "      <td></td>\n",
       "    </tr>\n",
       "    <tr>\n",
       "      <th>8</th>\n",
       "      <td>2022-07-22</td>\n",
       "      <td>UnitedAirlines on a flight from AZ to EWR and...</td>\n",
       "      <td>36</td>\n",
       "      <td></td>\n",
       "      <td></td>\n",
       "      <td></td>\n",
       "      <td></td>\n",
       "    </tr>\n",
       "    <tr>\n",
       "      <th>9</th>\n",
       "      <td>2022-07-21</td>\n",
       "      <td>Had united told be before I got on their plan...</td>\n",
       "      <td>37</td>\n",
       "      <td></td>\n",
       "      <td></td>\n",
       "      <td></td>\n",
       "      <td></td>\n",
       "    </tr>\n",
       "  </tbody>\n",
       "</table>\n",
       "</div>"
      ],
      "text/plain": [
       "         Date                                             Tweets  Prices Comp  \\\n",
       "0  2022-07-30  United Airlines Take Me Along Michael Cimino 1...      36        \n",
       "1  2022-07-29   Delayed flight from BTR got me to my gate in ...      36        \n",
       "2  2022-07-28   Hello united Im one of your pilot Need your s...      36        \n",
       "3  2022-07-27   united UA1431 from LAX to HNL delayed again t...      36        \n",
       "4  2022-07-26   RT diecastryan SFO terminal G at sunset sfo s...      35        \n",
       "5  2022-07-25   RT diecastryan SFO terminal G at sunset sfo s...      36        \n",
       "6  2022-07-24   RT USASWW1 JudahBDavis amtrackmacon3 templefu...      36        \n",
       "7  2022-07-23   United Airlines to Axe 50 Daily Flights at Ne...      36        \n",
       "8  2022-07-22   UnitedAirlines on a flight from AZ to EWR and...      36        \n",
       "9  2022-07-21   Had united told be before I got on their plan...      37        \n",
       "\n",
       "  Negative Neutral Positive  \n",
       "0                            \n",
       "1                            \n",
       "2                            \n",
       "3                            \n",
       "4                            \n",
       "5                            \n",
       "6                            \n",
       "7                            \n",
       "8                            \n",
       "9                            "
      ]
     },
     "execution_count": 77,
     "metadata": {},
     "output_type": "execute_result"
    }
   ],
   "source": [
    "ccdata[\"Comp\"] = ''\n",
    "ccdata[\"Negative\"] = ''\n",
    "ccdata[\"Neutral\"] = ''\n",
    "ccdata[\"Positive\"] = ''\n",
    "ccdata"
   ]
  },
  {
   "cell_type": "markdown",
   "metadata": {},
   "source": [
    "#### Downloading this package was essential to perform sentiment analysis."
   ]
  },
  {
   "cell_type": "code",
   "execution_count": 78,
   "metadata": {
    "ExecuteTime": {
     "end_time": "2021-09-22T09:39:45.645882Z",
     "start_time": "2021-09-22T09:39:44.853380Z"
    }
   },
   "outputs": [
    {
     "name": "stderr",
     "output_type": "stream",
     "text": [
      "[nltk_data] Downloading package vader_lexicon to\n",
      "[nltk_data]     /Users/zhouxingwei/opt/miniconda3/nltk_data...\n",
      "[nltk_data]   Package vader_lexicon is already up-to-date!\n"
     ]
    },
    {
     "data": {
      "text/plain": [
       "True"
      ]
     },
     "execution_count": 78,
     "metadata": {},
     "output_type": "execute_result"
    }
   ],
   "source": [
    "import nltk\n",
    "nltk.download('vader_lexicon')"
   ]
  },
  {
   "cell_type": "markdown",
   "metadata": {},
   "source": [
    "#### This part of the code is responsible for assigning the polarity for each statement. That is how much positive, negative, neutral you statement is. And also assign the compound value that is overall sentiment of the statement."
   ]
  },
  {
   "cell_type": "code",
   "execution_count": 79,
   "metadata": {
    "ExecuteTime": {
     "end_time": "2021-09-22T09:41:51.701865Z",
     "start_time": "2021-09-22T09:41:51.584148Z"
    }
   },
   "outputs": [
    {
     "name": "stderr",
     "output_type": "stream",
     "text": [
      "/var/folders/6h/0cw63sbs0cl_9hz8mj2d3jl40000gn/T/ipykernel_41862/4058129665.py:9: SettingWithCopyWarning: \n",
      "A value is trying to be set on a copy of a slice from a DataFrame\n",
      "\n",
      "See the caveats in the documentation: https://pandas.pydata.org/pandas-docs/stable/user_guide/indexing.html#returning-a-view-versus-a-copy\n",
      "  ccdata['Comp'].iloc[indexx] = sentence_sentiment['compound']\n",
      "/var/folders/6h/0cw63sbs0cl_9hz8mj2d3jl40000gn/T/ipykernel_41862/4058129665.py:10: SettingWithCopyWarning: \n",
      "A value is trying to be set on a copy of a slice from a DataFrame\n",
      "\n",
      "See the caveats in the documentation: https://pandas.pydata.org/pandas-docs/stable/user_guide/indexing.html#returning-a-view-versus-a-copy\n",
      "  ccdata['Negative'].iloc[indexx] = sentence_sentiment['neg']\n",
      "/var/folders/6h/0cw63sbs0cl_9hz8mj2d3jl40000gn/T/ipykernel_41862/4058129665.py:11: SettingWithCopyWarning: \n",
      "A value is trying to be set on a copy of a slice from a DataFrame\n",
      "\n",
      "See the caveats in the documentation: https://pandas.pydata.org/pandas-docs/stable/user_guide/indexing.html#returning-a-view-versus-a-copy\n",
      "  ccdata['Neutral'].iloc[indexx] = sentence_sentiment['neu']\n",
      "/var/folders/6h/0cw63sbs0cl_9hz8mj2d3jl40000gn/T/ipykernel_41862/4058129665.py:12: SettingWithCopyWarning: \n",
      "A value is trying to be set on a copy of a slice from a DataFrame\n",
      "\n",
      "See the caveats in the documentation: https://pandas.pydata.org/pandas-docs/stable/user_guide/indexing.html#returning-a-view-versus-a-copy\n",
      "  ccdata['Positive'].iloc[indexx] = sentence_sentiment['compound']\n"
     ]
    }
   ],
   "source": [
    "from nltk.sentiment.vader import SentimentIntensityAnalyzer\n",
    "from nltk.sentiment.vader import SentimentIntensityAnalyzer\n",
    "import unicodedata\n",
    "sentiment_i_a = SentimentIntensityAnalyzer()\n",
    "for indexx, row in ccdata.T.iteritems():\n",
    "    try:\n",
    "        sentence_i = unicodedata.normalize('NFKD', ccdata.loc[indexx, 'Tweets'])\n",
    "        sentence_sentiment = sentiment_i_a.polarity_scores(sentence_i)\n",
    "        ccdata['Comp'].iloc[indexx] = sentence_sentiment['compound']\n",
    "        ccdata['Negative'].iloc[indexx] = sentence_sentiment['neg']\n",
    "        ccdata['Neutral'].iloc[indexx] = sentence_sentiment['neu']\n",
    "        ccdata['Positive'].iloc[indexx] = sentence_sentiment['compound']\n",
    "        # ccdata.set_value(indexx, 'Comp', sentence_sentiment['pos'])\n",
    "        # ccdata.set_value(indexx, 'Negative', sentence_sentiment['neg'])\n",
    "        # ccdata.set_value(indexx, 'Neutral', sentence_sentiment['neu'])\n",
    "        # ccdata.set_value(indexx, 'Positive', sentence_sentiment['pos'])\n",
    "    except TypeError:\n",
    "        print (ccdata.loc[indexx, 'Tweets'])\n",
    "        print (indexx)"
   ]
  },
  {
   "cell_type": "code",
   "execution_count": 80,
   "metadata": {
    "ExecuteTime": {
     "end_time": "2021-09-22T09:41:52.464197Z",
     "start_time": "2021-09-22T09:41:52.452260Z"
    }
   },
   "outputs": [
    {
     "data": {
      "text/html": [
       "<div>\n",
       "<style scoped>\n",
       "    .dataframe tbody tr th:only-of-type {\n",
       "        vertical-align: middle;\n",
       "    }\n",
       "\n",
       "    .dataframe tbody tr th {\n",
       "        vertical-align: top;\n",
       "    }\n",
       "\n",
       "    .dataframe thead th {\n",
       "        text-align: right;\n",
       "    }\n",
       "</style>\n",
       "<table border=\"1\" class=\"dataframe\">\n",
       "  <thead>\n",
       "    <tr style=\"text-align: right;\">\n",
       "      <th></th>\n",
       "      <th>Date</th>\n",
       "      <th>Tweets</th>\n",
       "      <th>Prices</th>\n",
       "      <th>Comp</th>\n",
       "      <th>Negative</th>\n",
       "      <th>Neutral</th>\n",
       "      <th>Positive</th>\n",
       "    </tr>\n",
       "  </thead>\n",
       "  <tbody>\n",
       "    <tr>\n",
       "      <th>0</th>\n",
       "      <td>2022-07-30</td>\n",
       "      <td>United Airlines Take Me Along Michael Cimino 1...</td>\n",
       "      <td>36</td>\n",
       "      <td>-0.2776</td>\n",
       "      <td>0.098</td>\n",
       "      <td>0.8</td>\n",
       "      <td>-0.2776</td>\n",
       "    </tr>\n",
       "    <tr>\n",
       "      <th>1</th>\n",
       "      <td>2022-07-29</td>\n",
       "      <td>Delayed flight from BTR got me to my gate in ...</td>\n",
       "      <td>36</td>\n",
       "      <td>0.9999</td>\n",
       "      <td>0.029</td>\n",
       "      <td>0.722</td>\n",
       "      <td>0.9999</td>\n",
       "    </tr>\n",
       "    <tr>\n",
       "      <th>2</th>\n",
       "      <td>2022-07-28</td>\n",
       "      <td>Hello united Im one of your pilot Need your s...</td>\n",
       "      <td>36</td>\n",
       "      <td>0.9987</td>\n",
       "      <td>0.021</td>\n",
       "      <td>0.829</td>\n",
       "      <td>0.9987</td>\n",
       "    </tr>\n",
       "    <tr>\n",
       "      <th>3</th>\n",
       "      <td>2022-07-27</td>\n",
       "      <td>united UA1431 from LAX to HNL delayed again t...</td>\n",
       "      <td>36</td>\n",
       "      <td>0.9988</td>\n",
       "      <td>0.089</td>\n",
       "      <td>0.741</td>\n",
       "      <td>0.9988</td>\n",
       "    </tr>\n",
       "    <tr>\n",
       "      <th>4</th>\n",
       "      <td>2022-07-26</td>\n",
       "      <td>RT diecastryan SFO terminal G at sunset sfo s...</td>\n",
       "      <td>35</td>\n",
       "      <td>0.9998</td>\n",
       "      <td>0.038</td>\n",
       "      <td>0.741</td>\n",
       "      <td>0.9998</td>\n",
       "    </tr>\n",
       "    <tr>\n",
       "      <th>5</th>\n",
       "      <td>2022-07-25</td>\n",
       "      <td>RT diecastryan SFO terminal G at sunset sfo s...</td>\n",
       "      <td>36</td>\n",
       "      <td>0.9923</td>\n",
       "      <td>0.055</td>\n",
       "      <td>0.853</td>\n",
       "      <td>0.9923</td>\n",
       "    </tr>\n",
       "    <tr>\n",
       "      <th>6</th>\n",
       "      <td>2022-07-24</td>\n",
       "      <td>RT USASWW1 JudahBDavis amtrackmacon3 templefu...</td>\n",
       "      <td>36</td>\n",
       "      <td>0.9992</td>\n",
       "      <td>0.082</td>\n",
       "      <td>0.74</td>\n",
       "      <td>0.9992</td>\n",
       "    </tr>\n",
       "    <tr>\n",
       "      <th>7</th>\n",
       "      <td>2022-07-23</td>\n",
       "      <td>United Airlines to Axe 50 Daily Flights at Ne...</td>\n",
       "      <td>36</td>\n",
       "      <td>0.9992</td>\n",
       "      <td>0.083</td>\n",
       "      <td>0.746</td>\n",
       "      <td>0.9992</td>\n",
       "    </tr>\n",
       "    <tr>\n",
       "      <th>8</th>\n",
       "      <td>2022-07-22</td>\n",
       "      <td>UnitedAirlines on a flight from AZ to EWR and...</td>\n",
       "      <td>36</td>\n",
       "      <td>0.9381</td>\n",
       "      <td>0.08</td>\n",
       "      <td>0.827</td>\n",
       "      <td>0.9381</td>\n",
       "    </tr>\n",
       "    <tr>\n",
       "      <th>9</th>\n",
       "      <td>2022-07-21</td>\n",
       "      <td>Had united told be before I got on their plan...</td>\n",
       "      <td>37</td>\n",
       "      <td>0.9959</td>\n",
       "      <td>0.04</td>\n",
       "      <td>0.836</td>\n",
       "      <td>0.9959</td>\n",
       "    </tr>\n",
       "  </tbody>\n",
       "</table>\n",
       "</div>"
      ],
      "text/plain": [
       "         Date                                             Tweets  Prices  \\\n",
       "0  2022-07-30  United Airlines Take Me Along Michael Cimino 1...      36   \n",
       "1  2022-07-29   Delayed flight from BTR got me to my gate in ...      36   \n",
       "2  2022-07-28   Hello united Im one of your pilot Need your s...      36   \n",
       "3  2022-07-27   united UA1431 from LAX to HNL delayed again t...      36   \n",
       "4  2022-07-26   RT diecastryan SFO terminal G at sunset sfo s...      35   \n",
       "5  2022-07-25   RT diecastryan SFO terminal G at sunset sfo s...      36   \n",
       "6  2022-07-24   RT USASWW1 JudahBDavis amtrackmacon3 templefu...      36   \n",
       "7  2022-07-23   United Airlines to Axe 50 Daily Flights at Ne...      36   \n",
       "8  2022-07-22   UnitedAirlines on a flight from AZ to EWR and...      36   \n",
       "9  2022-07-21   Had united told be before I got on their plan...      37   \n",
       "\n",
       "     Comp Negative Neutral Positive  \n",
       "0 -0.2776    0.098     0.8  -0.2776  \n",
       "1  0.9999    0.029   0.722   0.9999  \n",
       "2  0.9987    0.021   0.829   0.9987  \n",
       "3  0.9988    0.089   0.741   0.9988  \n",
       "4  0.9998    0.038   0.741   0.9998  \n",
       "5  0.9923    0.055   0.853   0.9923  \n",
       "6  0.9992    0.082    0.74   0.9992  \n",
       "7  0.9992    0.083   0.746   0.9992  \n",
       "8  0.9381     0.08   0.827   0.9381  \n",
       "9  0.9959     0.04   0.836   0.9959  "
      ]
     },
     "execution_count": 80,
     "metadata": {},
     "output_type": "execute_result"
    }
   ],
   "source": [
    "ccdata"
   ]
  },
  {
   "cell_type": "markdown",
   "metadata": {},
   "source": [
    "#### Calculating the percentage of postive and negative tweets, and plotting the PIE chart for the same."
   ]
  },
  {
   "cell_type": "code",
   "execution_count": 81,
   "metadata": {
    "ExecuteTime": {
     "end_time": "2021-09-22T09:43:58.673907Z",
     "start_time": "2021-09-22T09:43:58.601071Z"
    },
    "scrolled": true
   },
   "outputs": [
    {
     "name": "stdout",
     "output_type": "stream",
     "text": [
      "% of positive tweets=  90.0\n",
      "% of negative tweets=  10.0\n"
     ]
    },
    {
     "data": {
      "text/plain": [
       "[]"
      ]
     },
     "execution_count": 81,
     "metadata": {},
     "output_type": "execute_result"
    },
    {
     "data": {
      "image/png": "[encoded data removed]",
      "text/plain": [
       "<Figure size 432x288 with 1 Axes>"
      ]
     },
     "metadata": {},
     "output_type": "display_data"
    }
   ],
   "source": [
    "posi=0\n",
    "nega=0\n",
    "for i in range (0,len(ccdata)):\n",
    "    get_val=ccdata.Comp[i]\n",
    "    if(float(get_val)<(0)):\n",
    "        nega=nega+1\n",
    "    if(float(get_val>(0))):\n",
    "        posi=posi+1\n",
    "posper=(posi/(len(ccdata)))*100\n",
    "negper=(nega/(len(ccdata)))*100\n",
    "print(\"% of positive tweets= \",posper)\n",
    "print(\"% of negative tweets= \",negper)\n",
    "arr=np.asarray([posper,negper], dtype=int)\n",
    "mlpt.pie(arr,labels=['positive','negative'])\n",
    "mlpt.plot()"
   ]
  },
  {
   "cell_type": "markdown",
   "metadata": {},
   "source": [
    "#### Making a new dataframe with necessary columns for providing machine learning."
   ]
  },
  {
   "cell_type": "code",
   "execution_count": 82,
   "metadata": {
    "ExecuteTime": {
     "end_time": "2021-09-22T09:44:01.310736Z",
     "start_time": "2021-09-22T09:44:01.301731Z"
    }
   },
   "outputs": [],
   "source": [
    "df_=ccdata[['Date','Prices','Comp','Negative','Neutral','Positive']].copy()"
   ]
  },
  {
   "cell_type": "code",
   "execution_count": 83,
   "metadata": {
    "ExecuteTime": {
     "end_time": "2021-09-22T09:44:01.654699Z",
     "start_time": "2021-09-22T09:44:01.635721Z"
    }
   },
   "outputs": [
    {
     "data": {
      "text/html": [
       "<div>\n",
       "<style scoped>\n",
       "    .dataframe tbody tr th:only-of-type {\n",
       "        vertical-align: middle;\n",
       "    }\n",
       "\n",
       "    .dataframe tbody tr th {\n",
       "        vertical-align: top;\n",
       "    }\n",
       "\n",
       "    .dataframe thead th {\n",
       "        text-align: right;\n",
       "    }\n",
       "</style>\n",
       "<table border=\"1\" class=\"dataframe\">\n",
       "  <thead>\n",
       "    <tr style=\"text-align: right;\">\n",
       "      <th></th>\n",
       "      <th>Date</th>\n",
       "      <th>Prices</th>\n",
       "      <th>Comp</th>\n",
       "      <th>Negative</th>\n",
       "      <th>Neutral</th>\n",
       "      <th>Positive</th>\n",
       "    </tr>\n",
       "  </thead>\n",
       "  <tbody>\n",
       "    <tr>\n",
       "      <th>0</th>\n",
       "      <td>2022-07-30</td>\n",
       "      <td>36</td>\n",
       "      <td>-0.2776</td>\n",
       "      <td>0.098</td>\n",
       "      <td>0.8</td>\n",
       "      <td>-0.2776</td>\n",
       "    </tr>\n",
       "    <tr>\n",
       "      <th>1</th>\n",
       "      <td>2022-07-29</td>\n",
       "      <td>36</td>\n",
       "      <td>0.9999</td>\n",
       "      <td>0.029</td>\n",
       "      <td>0.722</td>\n",
       "      <td>0.9999</td>\n",
       "    </tr>\n",
       "    <tr>\n",
       "      <th>2</th>\n",
       "      <td>2022-07-28</td>\n",
       "      <td>36</td>\n",
       "      <td>0.9987</td>\n",
       "      <td>0.021</td>\n",
       "      <td>0.829</td>\n",
       "      <td>0.9987</td>\n",
       "    </tr>\n",
       "    <tr>\n",
       "      <th>3</th>\n",
       "      <td>2022-07-27</td>\n",
       "      <td>36</td>\n",
       "      <td>0.9988</td>\n",
       "      <td>0.089</td>\n",
       "      <td>0.741</td>\n",
       "      <td>0.9988</td>\n",
       "    </tr>\n",
       "    <tr>\n",
       "      <th>4</th>\n",
       "      <td>2022-07-26</td>\n",
       "      <td>35</td>\n",
       "      <td>0.9998</td>\n",
       "      <td>0.038</td>\n",
       "      <td>0.741</td>\n",
       "      <td>0.9998</td>\n",
       "    </tr>\n",
       "    <tr>\n",
       "      <th>5</th>\n",
       "      <td>2022-07-25</td>\n",
       "      <td>36</td>\n",
       "      <td>0.9923</td>\n",
       "      <td>0.055</td>\n",
       "      <td>0.853</td>\n",
       "      <td>0.9923</td>\n",
       "    </tr>\n",
       "    <tr>\n",
       "      <th>6</th>\n",
       "      <td>2022-07-24</td>\n",
       "      <td>36</td>\n",
       "      <td>0.9992</td>\n",
       "      <td>0.082</td>\n",
       "      <td>0.74</td>\n",
       "      <td>0.9992</td>\n",
       "    </tr>\n",
       "    <tr>\n",
       "      <th>7</th>\n",
       "      <td>2022-07-23</td>\n",
       "      <td>36</td>\n",
       "      <td>0.9992</td>\n",
       "      <td>0.083</td>\n",
       "      <td>0.746</td>\n",
       "      <td>0.9992</td>\n",
       "    </tr>\n",
       "    <tr>\n",
       "      <th>8</th>\n",
       "      <td>2022-07-22</td>\n",
       "      <td>36</td>\n",
       "      <td>0.9381</td>\n",
       "      <td>0.08</td>\n",
       "      <td>0.827</td>\n",
       "      <td>0.9381</td>\n",
       "    </tr>\n",
       "    <tr>\n",
       "      <th>9</th>\n",
       "      <td>2022-07-21</td>\n",
       "      <td>37</td>\n",
       "      <td>0.9959</td>\n",
       "      <td>0.04</td>\n",
       "      <td>0.836</td>\n",
       "      <td>0.9959</td>\n",
       "    </tr>\n",
       "  </tbody>\n",
       "</table>\n",
       "</div>"
      ],
      "text/plain": [
       "         Date  Prices    Comp Negative Neutral Positive\n",
       "0  2022-07-30      36 -0.2776    0.098     0.8  -0.2776\n",
       "1  2022-07-29      36  0.9999    0.029   0.722   0.9999\n",
       "2  2022-07-28      36  0.9987    0.021   0.829   0.9987\n",
       "3  2022-07-27      36  0.9988    0.089   0.741   0.9988\n",
       "4  2022-07-26      35  0.9998    0.038   0.741   0.9998\n",
       "5  2022-07-25      36  0.9923    0.055   0.853   0.9923\n",
       "6  2022-07-24      36  0.9992    0.082    0.74   0.9992\n",
       "7  2022-07-23      36  0.9992    0.083   0.746   0.9992\n",
       "8  2022-07-22      36  0.9381     0.08   0.827   0.9381\n",
       "9  2022-07-21      37  0.9959     0.04   0.836   0.9959"
      ]
     },
     "execution_count": 83,
     "metadata": {},
     "output_type": "execute_result"
    }
   ],
   "source": [
    "df_"
   ]
  },
  {
   "cell_type": "markdown",
   "metadata": {},
   "source": [
    "#### Dividing the dataset into train and test."
   ]
  },
  {
   "cell_type": "code",
   "execution_count": 84,
   "metadata": {
    "ExecuteTime": {
     "end_time": "2021-09-22T09:44:49.274215Z",
     "start_time": "2021-09-22T09:44:49.266237Z"
    },
    "scrolled": true
   },
   "outputs": [],
   "source": [
    "train_start_index = '0'\n",
    "train_end_index = '7'\n",
    "test_start_index = '8'\n",
    "test_end_index = '9'\n",
    "train = df_.loc[train_start_index : train_end_index,:]\n",
    "test = df_.loc[test_start_index:test_end_index,:]"
   ]
  },
  {
   "cell_type": "markdown",
   "metadata": {},
   "source": [
    "#### Making a 2D array that will store the Negative and Positive sentiment for Training dataset."
   ]
  },
  {
   "cell_type": "code",
   "execution_count": 85,
   "metadata": {
    "ExecuteTime": {
     "end_time": "2021-09-22T09:44:50.677601Z",
     "start_time": "2021-09-22T09:44:50.667601Z"
    }
   },
   "outputs": [],
   "source": [
    "sentiment_score_list = []\n",
    "for date, row in train.T.iteritems():\n",
    "    sentiment_score = np.asarray([df_.loc[date, 'Negative'],df_.loc[date, 'Positive']])\n",
    "    sentiment_score_list.append(sentiment_score)\n",
    "numpy_df_train = np.asarray(sentiment_score_list)"
   ]
  },
  {
   "cell_type": "code",
   "execution_count": 86,
   "metadata": {
    "ExecuteTime": {
     "end_time": "2021-09-22T09:44:52.251819Z",
     "start_time": "2021-09-22T09:44:52.236853Z"
    }
   },
   "outputs": [
    {
     "name": "stdout",
     "output_type": "stream",
     "text": [
      "[[ 0.098  -0.2776]\n",
      " [ 0.029   0.9999]\n",
      " [ 0.021   0.9987]\n",
      " [ 0.089   0.9988]\n",
      " [ 0.038   0.9998]\n",
      " [ 0.055   0.9923]\n",
      " [ 0.082   0.9992]\n",
      " [ 0.083   0.9992]]\n"
     ]
    }
   ],
   "source": [
    "print(numpy_df_train)"
   ]
  },
  {
   "cell_type": "markdown",
   "metadata": {},
   "source": [
    "#### Making a 2D array that will store the Negative and Positive sentiment for Testing dataset."
   ]
  },
  {
   "cell_type": "code",
   "execution_count": 87,
   "metadata": {
    "ExecuteTime": {
     "end_time": "2021-09-22T09:44:53.722231Z",
     "start_time": "2021-09-22T09:44:53.711261Z"
    }
   },
   "outputs": [],
   "source": [
    "sentiment_score_list = []\n",
    "for date, row in test.T.iteritems():\n",
    "    sentiment_score = np.asarray([df_.loc[date, 'Negative'],df_.loc[date, 'Positive']])\n",
    "    sentiment_score_list.append(sentiment_score)\n",
    "numpy_df_test = np.asarray(sentiment_score_list)"
   ]
  },
  {
   "cell_type": "code",
   "execution_count": 88,
   "metadata": {
    "ExecuteTime": {
     "end_time": "2021-09-22T09:44:54.096791Z",
     "start_time": "2021-09-22T09:44:54.083825Z"
    }
   },
   "outputs": [
    {
     "name": "stdout",
     "output_type": "stream",
     "text": [
      "[[0.08   0.9381]\n",
      " [0.04   0.9959]]\n"
     ]
    }
   ],
   "source": [
    "print(numpy_df_test)"
   ]
  },
  {
   "cell_type": "markdown",
   "metadata": {},
   "source": [
    "#### Making 2 dataframe for Training and Testing \"Prices\". You can also make 1-D array for the same."
   ]
  },
  {
   "cell_type": "code",
   "execution_count": 89,
   "metadata": {
    "ExecuteTime": {
     "end_time": "2021-09-22T09:44:55.720364Z",
     "start_time": "2021-09-22T09:44:55.700416Z"
    }
   },
   "outputs": [
    {
     "name": "stdout",
     "output_type": "stream",
     "text": [
      "   Prices\n",
      "0      36\n",
      "1      36\n",
      "2      36\n",
      "3      36\n",
      "4      35\n",
      "5      36\n",
      "6      36\n",
      "7      36\n"
     ]
    }
   ],
   "source": [
    "y_train = pd.DataFrame(train['Prices'])\n",
    "#y_train=[91,91,91,92,91,92,91]\n",
    "y_test = pd.DataFrame(test['Prices'])\n",
    "print(y_train)"
   ]
  },
  {
   "cell_type": "markdown",
   "metadata": {},
   "source": [
    "#### Fitting the sentiments(this acts as in independent value) and prices(this acts as a dependent value (like class-lables in iris dataset))"
   ]
  },
  {
   "cell_type": "code",
   "execution_count": 90,
   "metadata": {
    "ExecuteTime": {
     "end_time": "2021-09-22T09:45:41.425399Z",
     "start_time": "2021-09-22T09:45:41.317688Z"
    },
    "scrolled": true
   },
   "outputs": [
    {
     "name": "stderr",
     "output_type": "stream",
     "text": [
      "/var/folders/6h/0cw63sbs0cl_9hz8mj2d3jl40000gn/T/ipykernel_41862/1504975680.py:7: DataConversionWarning: A column-vector y was passed when a 1d array was expected. Please change the shape of y to (n_samples,), for example using ravel().\n",
      "  rf.fit(numpy_df_train, y_train)\n"
     ]
    },
    {
     "data": {
      "text/html": [
       "<style>#sk-container-id-1 {color: black;background-color: white;}#sk-container-id-1 pre{padding: 0;}#sk-container-id-1 div.sk-toggleable {background-color: white;}#sk-container-id-1 label.sk-toggleable__label {cursor: pointer;display: block;width: 100%;margin-bottom: 0;padding: 0.3em;box-sizing: border-box;text-align: center;}#sk-container-id-1 label.sk-toggleable__label-arrow:before {content: \"▸\";float: left;margin-right: 0.25em;color: #696969;}#sk-container-id-1 label.sk-toggleable__label-arrow:hover:before {color: black;}#sk-container-id-1 div.sk-estimator:hover label.sk-toggleable__label-arrow:before {color: black;}#sk-container-id-1 div.sk-toggleable__content {max-height: 0;max-width: 0;overflow: hidden;text-align: left;background-color: #f0f8ff;}#sk-container-id-1 div.sk-toggleable__content pre {margin: 0.2em;color: black;border-radius: 0.25em;background-color: #f0f8ff;}#sk-container-id-1 input.sk-toggleable__control:checked~div.sk-toggleable__content {max-height: 200px;max-width: 100%;overflow: auto;}#sk-container-id-1 input.sk-toggleable__control:checked~label.sk-toggleable__label-arrow:before {content: \"▾\";}#sk-container-id-1 div.sk-estimator input.sk-toggleable__control:checked~label.sk-toggleable__label {background-color: #d4ebff;}#sk-container-id-1 div.sk-label input.sk-toggleable__control:checked~label.sk-toggleable__label {background-color: #d4ebff;}#sk-container-id-1 input.sk-hidden--visually {border: 0;clip: rect(1px 1px 1px 1px);clip: rect(1px, 1px, 1px, 1px);height: 1px;margin: -1px;overflow: hidden;padding: 0;position: absolute;width: 1px;}#sk-container-id-1 div.sk-estimator {font-family: monospace;background-color: #f0f8ff;border: 1px dotted black;border-radius: 0.25em;box-sizing: border-box;margin-bottom: 0.5em;}#sk-container-id-1 div.sk-estimator:hover {background-color: #d4ebff;}#sk-container-id-1 div.sk-parallel-item::after {content: \"\";width: 100%;border-bottom: 1px solid gray;flex-grow: 1;}#sk-container-id-1 div.sk-label:hover label.sk-toggleable__label {background-color: #d4ebff;}#sk-container-id-1 div.sk-serial::before {content: \"\";position: absolute;border-left: 1px solid gray;box-sizing: border-box;top: 0;bottom: 0;left: 50%;z-index: 0;}#sk-container-id-1 div.sk-serial {display: flex;flex-direction: column;align-items: center;background-color: white;padding-right: 0.2em;padding-left: 0.2em;position: relative;}#sk-container-id-1 div.sk-item {position: relative;z-index: 1;}#sk-container-id-1 div.sk-parallel {display: flex;align-items: stretch;justify-content: center;background-color: white;position: relative;}#sk-container-id-1 div.sk-item::before, #sk-container-id-1 div.sk-parallel-item::before {content: \"\";position: absolute;border-left: 1px solid gray;box-sizing: border-box;top: 0;bottom: 0;left: 50%;z-index: -1;}#sk-container-id-1 div.sk-parallel-item {display: flex;flex-direction: column;z-index: 1;position: relative;background-color: white;}#sk-container-id-1 div.sk-parallel-item:first-child::after {align-self: flex-end;width: 50%;}#sk-container-id-1 div.sk-parallel-item:last-child::after {align-self: flex-start;width: 50%;}#sk-container-id-1 div.sk-parallel-item:only-child::after {width: 0;}#sk-container-id-1 div.sk-dashed-wrapped {border: 1px dashed gray;margin: 0 0.4em 0.5em 0.4em;box-sizing: border-box;padding-bottom: 0.4em;background-color: white;}#sk-container-id-1 div.sk-label label {font-family: monospace;font-weight: bold;display: inline-block;line-height: 1.2em;}#sk-container-id-1 div.sk-label-container {text-align: center;}#sk-container-id-1 div.sk-container {/* jupyter's `normalize.less` sets `[hidden] { display: none; }` but bootstrap.min.css set `[hidden] { display: none !important; }` so we also need the `!important` here to be able to override the default hidden behavior on the sphinx rendered scikit-learn.org. See: https://github.com/scikit-learn/scikit-learn/issues/21755 */display: inline-block !important;position: relative;}#sk-container-id-1 div.sk-text-repr-fallback {display: none;}</style><div id=\"sk-container-id-1\" class=\"sk-top-container\"><div class=\"sk-text-repr-fallback\"><pre>RandomForestRegressor()</pre><b>In a Jupyter environment, please rerun this cell to show the HTML representation or trust the notebook. <br />On GitHub, the HTML representation is unable to render, please try loading this page with nbviewer.org.</b></div><div class=\"sk-container\" hidden><div class=\"sk-item\"><div class=\"sk-estimator sk-toggleable\"><input class=\"sk-toggleable__control sk-hidden--visually\" id=\"sk-estimator-id-1\" type=\"checkbox\" checked><label for=\"sk-estimator-id-1\" class=\"sk-toggleable__label sk-toggleable__label-arrow\">RandomForestRegressor</label><div class=\"sk-toggleable__content\"><pre>RandomForestRegressor()</pre></div></div></div></div></div>"
      ],
      "text/plain": [
       "RandomForestRegressor()"
      ]
     },
     "execution_count": 90,
     "metadata": {},
     "output_type": "execute_result"
    }
   ],
   "source": [
    "# from treeinterpreter import treeinterpreter as ti\n",
    "from sklearn.tree import DecisionTreeRegressor\n",
    "from sklearn.ensemble import RandomForestRegressor\n",
    "from sklearn.metrics import classification_report,confusion_matrix\n",
    "\n",
    "rf = RandomForestRegressor()\n",
    "rf.fit(numpy_df_train, y_train)"
   ]
  },
  {
   "cell_type": "markdown",
   "metadata": {},
   "source": [
    "#### Making Predictions"
   ]
  },
  {
   "cell_type": "code",
   "execution_count": 91,
   "metadata": {
    "ExecuteTime": {
     "end_time": "2021-09-22T09:46:05.824853Z",
     "start_time": "2021-09-22T09:46:05.802877Z"
    }
   },
   "outputs": [],
   "source": [
    "prediction = rf.predict(numpy_df_test)"
   ]
  },
  {
   "cell_type": "code",
   "execution_count": 92,
   "metadata": {
    "ExecuteTime": {
     "end_time": "2021-09-22T09:46:06.416726Z",
     "start_time": "2021-09-22T09:46:06.411739Z"
    }
   },
   "outputs": [
    {
     "name": "stdout",
     "output_type": "stream",
     "text": [
      "[36.   35.85]\n"
     ]
    }
   ],
   "source": [
    "print(prediction)"
   ]
  },
  {
   "cell_type": "markdown",
   "metadata": {},
   "source": [
    "#### Importing matplotlib library for plotting graph"
   ]
  },
  {
   "cell_type": "code",
   "execution_count": 93,
   "metadata": {
    "ExecuteTime": {
     "end_time": "2021-09-22T09:46:09.288378Z",
     "start_time": "2021-09-22T09:46:09.271441Z"
    }
   },
   "outputs": [],
   "source": [
    "import matplotlib.pyplot as plt"
   ]
  },
  {
   "cell_type": "markdown",
   "metadata": {},
   "source": [
    "#### Defining index position for the test data. Making dataframe for the predicted value."
   ]
  },
  {
   "cell_type": "code",
   "execution_count": 94,
   "metadata": {
    "ExecuteTime": {
     "end_time": "2021-09-22T09:46:45.351277Z",
     "start_time": "2021-09-22T09:46:45.345293Z"
    }
   },
   "outputs": [],
   "source": [
    "idx=np.arange(int(test_start_index),int(test_end_index)+1)\n",
    "predictions_df_ = pd.DataFrame(data=prediction[0:], index = idx, columns=['Prices'])"
   ]
  },
  {
   "cell_type": "code",
   "execution_count": 95,
   "metadata": {
    "ExecuteTime": {
     "end_time": "2021-09-22T09:46:46.414957Z",
     "start_time": "2021-09-22T09:46:46.405980Z"
    }
   },
   "outputs": [
    {
     "data": {
      "text/html": [
       "<div>\n",
       "<style scoped>\n",
       "    .dataframe tbody tr th:only-of-type {\n",
       "        vertical-align: middle;\n",
       "    }\n",
       "\n",
       "    .dataframe tbody tr th {\n",
       "        vertical-align: top;\n",
       "    }\n",
       "\n",
       "    .dataframe thead th {\n",
       "        text-align: right;\n",
       "    }\n",
       "</style>\n",
       "<table border=\"1\" class=\"dataframe\">\n",
       "  <thead>\n",
       "    <tr style=\"text-align: right;\">\n",
       "      <th></th>\n",
       "      <th>Prices</th>\n",
       "    </tr>\n",
       "  </thead>\n",
       "  <tbody>\n",
       "    <tr>\n",
       "      <th>8</th>\n",
       "      <td>36.00</td>\n",
       "    </tr>\n",
       "    <tr>\n",
       "      <th>9</th>\n",
       "      <td>35.85</td>\n",
       "    </tr>\n",
       "  </tbody>\n",
       "</table>\n",
       "</div>"
      ],
      "text/plain": [
       "   Prices\n",
       "8   36.00\n",
       "9   35.85"
      ]
     },
     "execution_count": 95,
     "metadata": {},
     "output_type": "execute_result"
    }
   ],
   "source": [
    "predictions_df_"
   ]
  },
  {
   "cell_type": "markdown",
   "metadata": {},
   "source": [
    "#### Plotting the graph for the Predicted_price VS Actual Price"
   ]
  },
  {
   "cell_type": "code",
   "execution_count": 97,
   "metadata": {
    "ExecuteTime": {
     "end_time": "2021-09-22T09:46:51.727734Z",
     "start_time": "2021-09-22T09:46:51.485198Z"
    }
   },
   "outputs": [
    {
     "data": {
      "image/png": "[encoded data removed]",
      "text/plain": [
       "<Figure size 432x288 with 1 Axes>"
      ]
     },
     "metadata": {
      "needs_background": "light"
     },
     "output_type": "display_data"
    }
   ],
   "source": [
    "ax = predictions_df_.rename(columns={\"Prices\": \"predicted_price\"}).plot(title='Random Forest predicted prices')#predicted value\n",
    "ax.set_xlabel(\"Indexes\")\n",
    "ax.set_ylabel(\"Stock Prices\")\n",
    "fig = y_test.rename(columns={\"Prices\": \"actual_price\"}).plot(ax = ax).get_figure()#actual value"
   ]
  },
  {
   "cell_type": "markdown",
   "metadata": {},
   "source": [
    "#### As the plot above shows, the prediction does not work well. "
   ]
  },
  {
   "cell_type": "code",
   "execution_count": 98,
   "metadata": {
    "ExecuteTime": {
     "end_time": "2021-09-22T09:47:06.527704Z",
     "start_time": "2021-09-22T09:47:06.512721Z"
    }
   },
   "outputs": [
    {
     "data": {
      "text/html": [
       "<style>#sk-container-id-2 {color: black;background-color: white;}#sk-container-id-2 pre{padding: 0;}#sk-container-id-2 div.sk-toggleable {background-color: white;}#sk-container-id-2 label.sk-toggleable__label {cursor: pointer;display: block;width: 100%;margin-bottom: 0;padding: 0.3em;box-sizing: border-box;text-align: center;}#sk-container-id-2 label.sk-toggleable__label-arrow:before {content: \"▸\";float: left;margin-right: 0.25em;color: #696969;}#sk-container-id-2 label.sk-toggleable__label-arrow:hover:before {color: black;}#sk-container-id-2 div.sk-estimator:hover label.sk-toggleable__label-arrow:before {color: black;}#sk-container-id-2 div.sk-toggleable__content {max-height: 0;max-width: 0;overflow: hidden;text-align: left;background-color: #f0f8ff;}#sk-container-id-2 div.sk-toggleable__content pre {margin: 0.2em;color: black;border-radius: 0.25em;background-color: #f0f8ff;}#sk-container-id-2 input.sk-toggleable__control:checked~div.sk-toggleable__content {max-height: 200px;max-width: 100%;overflow: auto;}#sk-container-id-2 input.sk-toggleable__control:checked~label.sk-toggleable__label-arrow:before {content: \"▾\";}#sk-container-id-2 div.sk-estimator input.sk-toggleable__control:checked~label.sk-toggleable__label {background-color: #d4ebff;}#sk-container-id-2 div.sk-label input.sk-toggleable__control:checked~label.sk-toggleable__label {background-color: #d4ebff;}#sk-container-id-2 input.sk-hidden--visually {border: 0;clip: rect(1px 1px 1px 1px);clip: rect(1px, 1px, 1px, 1px);height: 1px;margin: -1px;overflow: hidden;padding: 0;position: absolute;width: 1px;}#sk-container-id-2 div.sk-estimator {font-family: monospace;background-color: #f0f8ff;border: 1px dotted black;border-radius: 0.25em;box-sizing: border-box;margin-bottom: 0.5em;}#sk-container-id-2 div.sk-estimator:hover {background-color: #d4ebff;}#sk-container-id-2 div.sk-parallel-item::after {content: \"\";width: 100%;border-bottom: 1px solid gray;flex-grow: 1;}#sk-container-id-2 div.sk-label:hover label.sk-toggleable__label {background-color: #d4ebff;}#sk-container-id-2 div.sk-serial::before {content: \"\";position: absolute;border-left: 1px solid gray;box-sizing: border-box;top: 0;bottom: 0;left: 50%;z-index: 0;}#sk-container-id-2 div.sk-serial {display: flex;flex-direction: column;align-items: center;background-color: white;padding-right: 0.2em;padding-left: 0.2em;position: relative;}#sk-container-id-2 div.sk-item {position: relative;z-index: 1;}#sk-container-id-2 div.sk-parallel {display: flex;align-items: stretch;justify-content: center;background-color: white;position: relative;}#sk-container-id-2 div.sk-item::before, #sk-container-id-2 div.sk-parallel-item::before {content: \"\";position: absolute;border-left: 1px solid gray;box-sizing: border-box;top: 0;bottom: 0;left: 50%;z-index: -1;}#sk-container-id-2 div.sk-parallel-item {display: flex;flex-direction: column;z-index: 1;position: relative;background-color: white;}#sk-container-id-2 div.sk-parallel-item:first-child::after {align-self: flex-end;width: 50%;}#sk-container-id-2 div.sk-parallel-item:last-child::after {align-self: flex-start;width: 50%;}#sk-container-id-2 div.sk-parallel-item:only-child::after {width: 0;}#sk-container-id-2 div.sk-dashed-wrapped {border: 1px dashed gray;margin: 0 0.4em 0.5em 0.4em;box-sizing: border-box;padding-bottom: 0.4em;background-color: white;}#sk-container-id-2 div.sk-label label {font-family: monospace;font-weight: bold;display: inline-block;line-height: 1.2em;}#sk-container-id-2 div.sk-label-container {text-align: center;}#sk-container-id-2 div.sk-container {/* jupyter's `normalize.less` sets `[hidden] { display: none; }` but bootstrap.min.css set `[hidden] { display: none !important; }` so we also need the `!important` here to be able to override the default hidden behavior on the sphinx rendered scikit-learn.org. See: https://github.com/scikit-learn/scikit-learn/issues/21755 */display: inline-block !important;position: relative;}#sk-container-id-2 div.sk-text-repr-fallback {display: none;}</style><div id=\"sk-container-id-2\" class=\"sk-top-container\"><div class=\"sk-text-repr-fallback\"><pre>LinearRegression()</pre><b>In a Jupyter environment, please rerun this cell to show the HTML representation or trust the notebook. <br />On GitHub, the HTML representation is unable to render, please try loading this page with nbviewer.org.</b></div><div class=\"sk-container\" hidden><div class=\"sk-item\"><div class=\"sk-estimator sk-toggleable\"><input class=\"sk-toggleable__control sk-hidden--visually\" id=\"sk-estimator-id-2\" type=\"checkbox\" checked><label for=\"sk-estimator-id-2\" class=\"sk-toggleable__label sk-toggleable__label-arrow\">LinearRegression</label><div class=\"sk-toggleable__content\"><pre>LinearRegression()</pre></div></div></div></div></div>"
      ],
      "text/plain": [
       "LinearRegression()"
      ]
     },
     "execution_count": 98,
     "metadata": {},
     "output_type": "execute_result"
    }
   ],
   "source": [
    "# from treeinterpreter import treeinterpreter as ti\n",
    "# from sklearn.tree import DecisionTreeRegressor\n",
    "from sklearn.linear_model import LinearRegression\n",
    "from sklearn.metrics import classification_report,confusion_matrix\n",
    "\n",
    "reg = LinearRegression()\n",
    "reg.fit(numpy_df_train, y_train)"
   ]
  },
  {
   "cell_type": "code",
   "execution_count": 99,
   "metadata": {
    "ExecuteTime": {
     "end_time": "2021-09-22T09:47:06.903403Z",
     "start_time": "2021-09-22T09:47:06.899386Z"
    }
   },
   "outputs": [
    {
     "data": {
      "text/plain": [
       "array([[35.94729318],\n",
       "       [35.79152843]])"
      ]
     },
     "execution_count": 99,
     "metadata": {},
     "output_type": "execute_result"
    }
   ],
   "source": [
    "reg.predict(numpy_df_test)"
   ]
  },
  {
   "cell_type": "markdown",
   "metadata": {},
   "source": [
    "#### Since our dataset is very small and as you can see that fetching 600 tweets could only make data for just 10 days.Also the prediction is not very great in such small dataset. So we found this new dataset on internet which has the Text as \"Tweets\" and respective \"close price\" and \"Adjusted close price\".\n",
    "\n",
    "\n",
    "#### Adjusted Close Price: An adjusted closing price is a stock's closing price on any given day of trading that has been amended to include any distributions and corporate actions that occurred at any time before the next day's open."
   ]
  },
  {
   "cell_type": "code",
   "execution_count": 4,
   "metadata": {
    "ExecuteTime": {
     "end_time": "2021-09-22T09:53:18.910727Z",
     "start_time": "2021-09-22T09:53:18.834707Z"
    }
   },
   "outputs": [],
   "source": [
    "stocks_dataf = pd.read_pickle('Twitter_Dataset.pkl')\n",
    "stocks_dataf.columns=['closing_price','adj_close_price','Tweets']"
   ]
  },
  {
   "cell_type": "markdown",
   "metadata": {},
   "source": [
    "## New dataset"
   ]
  },
  {
   "cell_type": "code",
   "execution_count": 5,
   "metadata": {
    "ExecuteTime": {
     "end_time": "2021-09-22T09:53:19.550480Z",
     "start_time": "2021-09-22T09:53:19.536516Z"
    },
    "scrolled": true
   },
   "outputs": [
    {
     "data": {
      "text/html": [
       "<div>\n",
       "<style scoped>\n",
       "    .dataframe tbody tr th:only-of-type {\n",
       "        vertical-align: middle;\n",
       "    }\n",
       "\n",
       "    .dataframe tbody tr th {\n",
       "        vertical-align: top;\n",
       "    }\n",
       "\n",
       "    .dataframe thead th {\n",
       "        text-align: right;\n",
       "    }\n",
       "</style>\n",
       "<table border=\"1\" class=\"dataframe\">\n",
       "  <thead>\n",
       "    <tr style=\"text-align: right;\">\n",
       "      <th></th>\n",
       "      <th>closing_price</th>\n",
       "      <th>adj_close_price</th>\n",
       "      <th>Tweets</th>\n",
       "    </tr>\n",
       "  </thead>\n",
       "  <tbody>\n",
       "    <tr>\n",
       "      <th>2007-01-01</th>\n",
       "      <td>12469.971875</td>\n",
       "      <td>12469.971875</td>\n",
       "      <td>. What Sticks from '06. Somalia Orders Islamis...</td>\n",
       "    </tr>\n",
       "    <tr>\n",
       "      <th>2007-01-02</th>\n",
       "      <td>12472.245703</td>\n",
       "      <td>12472.245703</td>\n",
       "      <td>. Heart Health: Vitamin Does Not Prevent Death...</td>\n",
       "    </tr>\n",
       "    <tr>\n",
       "      <th>2007-01-03</th>\n",
       "      <td>12474.519531</td>\n",
       "      <td>12474.519531</td>\n",
       "      <td>. Google Answer to Filling Jobs Is an Algorith...</td>\n",
       "    </tr>\n",
       "    <tr>\n",
       "      <th>2007-01-04</th>\n",
       "      <td>12480.690430</td>\n",
       "      <td>12480.690430</td>\n",
       "      <td>. Helping Make the Shift From Combat to Commer...</td>\n",
       "    </tr>\n",
       "    <tr>\n",
       "      <th>2007-01-05</th>\n",
       "      <td>12398.009766</td>\n",
       "      <td>12398.009766</td>\n",
       "      <td>. Rise in Ethanol Raises Concerns About Corn a...</td>\n",
       "    </tr>\n",
       "    <tr>\n",
       "      <th>...</th>\n",
       "      <td>...</td>\n",
       "      <td>...</td>\n",
       "      <td>...</td>\n",
       "    </tr>\n",
       "    <tr>\n",
       "      <th>2016-12-27</th>\n",
       "      <td>19945.039062</td>\n",
       "      <td>19945.039062</td>\n",
       "      <td>. Should the U.S. Embassy Be Moved From Tel Av...</td>\n",
       "    </tr>\n",
       "    <tr>\n",
       "      <th>2016-12-28</th>\n",
       "      <td>19833.679688</td>\n",
       "      <td>19833.679688</td>\n",
       "      <td>. When Finding the Right Lawyer Seems Daunting...</td>\n",
       "    </tr>\n",
       "    <tr>\n",
       "      <th>2016-12-29</th>\n",
       "      <td>19819.779297</td>\n",
       "      <td>19819.779297</td>\n",
       "      <td>. Does Empathy Guide or Hinder Moral Action?. ...</td>\n",
       "    </tr>\n",
       "    <tr>\n",
       "      <th>2016-12-30</th>\n",
       "      <td>19762.599609</td>\n",
       "      <td>19762.599609</td>\n",
       "      <td>. Shielding Seized Assets From Corruption’s Cl...</td>\n",
       "    </tr>\n",
       "    <tr>\n",
       "      <th>2016-12-31</th>\n",
       "      <td>19762.599609</td>\n",
       "      <td>19762.599609</td>\n",
       "      <td>Terrorist Attack at Nightclub in Istanbul Kill...</td>\n",
       "    </tr>\n",
       "  </tbody>\n",
       "</table>\n",
       "<p>3653 rows × 3 columns</p>\n",
       "</div>"
      ],
      "text/plain": [
       "            closing_price  adj_close_price  \\\n",
       "2007-01-01   12469.971875     12469.971875   \n",
       "2007-01-02   12472.245703     12472.245703   \n",
       "2007-01-03   12474.519531     12474.519531   \n",
       "2007-01-04   12480.690430     12480.690430   \n",
       "2007-01-05   12398.009766     12398.009766   \n",
       "...                   ...              ...   \n",
       "2016-12-27   19945.039062     19945.039062   \n",
       "2016-12-28   19833.679688     19833.679688   \n",
       "2016-12-29   19819.779297     19819.779297   \n",
       "2016-12-30   19762.599609     19762.599609   \n",
       "2016-12-31   19762.599609     19762.599609   \n",
       "\n",
       "                                                       Tweets  \n",
       "2007-01-01  . What Sticks from '06. Somalia Orders Islamis...  \n",
       "2007-01-02  . Heart Health: Vitamin Does Not Prevent Death...  \n",
       "2007-01-03  . Google Answer to Filling Jobs Is an Algorith...  \n",
       "2007-01-04  . Helping Make the Shift From Combat to Commer...  \n",
       "2007-01-05  . Rise in Ethanol Raises Concerns About Corn a...  \n",
       "...                                                       ...  \n",
       "2016-12-27  . Should the U.S. Embassy Be Moved From Tel Av...  \n",
       "2016-12-28  . When Finding the Right Lawyer Seems Daunting...  \n",
       "2016-12-29  . Does Empathy Guide or Hinder Moral Action?. ...  \n",
       "2016-12-30  . Shielding Seized Assets From Corruption’s Cl...  \n",
       "2016-12-31  Terrorist Attack at Nightclub in Istanbul Kill...  \n",
       "\n",
       "[3653 rows x 3 columns]"
      ]
     },
     "execution_count": 5,
     "metadata": {},
     "output_type": "execute_result"
    }
   ],
   "source": [
    "stocks_dataf"
   ]
  },
  {
   "cell_type": "markdown",
   "metadata": {},
   "source": [
    "#### Removing dot (.) and space from the Tweets"
   ]
  },
  {
   "cell_type": "code",
   "execution_count": 7,
   "metadata": {
    "ExecuteTime": {
     "end_time": "2021-09-22T09:53:20.532074Z",
     "start_time": "2021-09-22T09:53:20.485208Z"
    },
    "scrolled": true
   },
   "outputs": [
    {
     "data": {
      "text/html": [
       "<div>\n",
       "<style scoped>\n",
       "    .dataframe tbody tr th:only-of-type {\n",
       "        vertical-align: middle;\n",
       "    }\n",
       "\n",
       "    .dataframe tbody tr th {\n",
       "        vertical-align: top;\n",
       "    }\n",
       "\n",
       "    .dataframe thead th {\n",
       "        text-align: right;\n",
       "    }\n",
       "</style>\n",
       "<table border=\"1\" class=\"dataframe\">\n",
       "  <thead>\n",
       "    <tr style=\"text-align: right;\">\n",
       "      <th></th>\n",
       "      <th>Date</th>\n",
       "      <th>adj_close_price</th>\n",
       "      <th>Tweets</th>\n",
       "    </tr>\n",
       "  </thead>\n",
       "  <tbody>\n",
       "    <tr>\n",
       "      <th>0</th>\n",
       "      <td>2007-01-01</td>\n",
       "      <td>12469</td>\n",
       "      <td>What Sticks from '06. Somalia Orders Islamist...</td>\n",
       "    </tr>\n",
       "    <tr>\n",
       "      <th>1</th>\n",
       "      <td>2007-01-02</td>\n",
       "      <td>12472</td>\n",
       "      <td>Heart Health: Vitamin Does Not Prevent Death ...</td>\n",
       "    </tr>\n",
       "    <tr>\n",
       "      <th>2</th>\n",
       "      <td>2007-01-03</td>\n",
       "      <td>12474</td>\n",
       "      <td>Google Answer to Filling Jobs Is an Algorithm...</td>\n",
       "    </tr>\n",
       "    <tr>\n",
       "      <th>3</th>\n",
       "      <td>2007-01-04</td>\n",
       "      <td>12480</td>\n",
       "      <td>Helping Make the Shift From Combat to Commerc...</td>\n",
       "    </tr>\n",
       "    <tr>\n",
       "      <th>4</th>\n",
       "      <td>2007-01-05</td>\n",
       "      <td>12398</td>\n",
       "      <td>Rise in Ethanol Raises Concerns About Corn as...</td>\n",
       "    </tr>\n",
       "    <tr>\n",
       "      <th>...</th>\n",
       "      <td>...</td>\n",
       "      <td>...</td>\n",
       "      <td>...</td>\n",
       "    </tr>\n",
       "    <tr>\n",
       "      <th>3648</th>\n",
       "      <td>2016-12-27</td>\n",
       "      <td>19945</td>\n",
       "      <td>Should the U.S. Embassy Be Moved From Tel Avi...</td>\n",
       "    </tr>\n",
       "    <tr>\n",
       "      <th>3649</th>\n",
       "      <td>2016-12-28</td>\n",
       "      <td>19833</td>\n",
       "      <td>When Finding the Right Lawyer Seems Daunting,...</td>\n",
       "    </tr>\n",
       "    <tr>\n",
       "      <th>3650</th>\n",
       "      <td>2016-12-29</td>\n",
       "      <td>19819</td>\n",
       "      <td>Does Empathy Guide or Hinder Moral Action?. C...</td>\n",
       "    </tr>\n",
       "    <tr>\n",
       "      <th>3651</th>\n",
       "      <td>2016-12-30</td>\n",
       "      <td>19762</td>\n",
       "      <td>Shielding Seized Assets From Corruption’s Clu...</td>\n",
       "    </tr>\n",
       "    <tr>\n",
       "      <th>3652</th>\n",
       "      <td>2016-12-31</td>\n",
       "      <td>19762</td>\n",
       "      <td>Terrorist Attack at Nightclub in Istanbul Kill...</td>\n",
       "    </tr>\n",
       "  </tbody>\n",
       "</table>\n",
       "<p>3653 rows × 3 columns</p>\n",
       "</div>"
      ],
      "text/plain": [
       "           Date  adj_close_price  \\\n",
       "0    2007-01-01            12469   \n",
       "1    2007-01-02            12472   \n",
       "2    2007-01-03            12474   \n",
       "3    2007-01-04            12480   \n",
       "4    2007-01-05            12398   \n",
       "...         ...              ...   \n",
       "3648 2016-12-27            19945   \n",
       "3649 2016-12-28            19833   \n",
       "3650 2016-12-29            19819   \n",
       "3651 2016-12-30            19762   \n",
       "3652 2016-12-31            19762   \n",
       "\n",
       "                                                 Tweets  \n",
       "0      What Sticks from '06. Somalia Orders Islamist...  \n",
       "1      Heart Health: Vitamin Does Not Prevent Death ...  \n",
       "2      Google Answer to Filling Jobs Is an Algorithm...  \n",
       "3      Helping Make the Shift From Combat to Commerc...  \n",
       "4      Rise in Ethanol Raises Concerns About Corn as...  \n",
       "...                                                 ...  \n",
       "3648   Should the U.S. Embassy Be Moved From Tel Avi...  \n",
       "3649   When Finding the Right Lawyer Seems Daunting,...  \n",
       "3650   Does Empathy Guide or Hinder Moral Action?. C...  \n",
       "3651   Shielding Seized Assets From Corruption’s Clu...  \n",
       "3652  Terrorist Attack at Nightclub in Istanbul Kill...  \n",
       "\n",
       "[3653 rows x 3 columns]"
      ]
     },
     "execution_count": 7,
     "metadata": {},
     "output_type": "execute_result"
    }
   ],
   "source": [
    "stocks_dataf['adj_close_price'] = stocks_dataf['adj_close_price'].apply(np.int64)\n",
    "stocks_dataf = stocks_dataf[['Date','adj_close_price', 'Tweets']]\n",
    "stocks_dataf['Tweets'] = stocks_dataf['Tweets'].map(lambda x: x.lstrip('.-'))\n",
    "stocks_dataf"
   ]
  },
  {
   "cell_type": "markdown",
   "metadata": {},
   "source": [
    "#### Making new dataframe and only considering \"Adjusted close price\". And date as index vlaue."
   ]
  },
  {
   "cell_type": "code",
   "execution_count": 8,
   "metadata": {
    "ExecuteTime": {
     "end_time": "2021-09-22T09:53:32.527076Z",
     "start_time": "2021-09-22T09:53:32.509089Z"
    }
   },
   "outputs": [
    {
     "data": {
      "text/html": [
       "<div>\n",
       "<style scoped>\n",
       "    .dataframe tbody tr th:only-of-type {\n",
       "        vertical-align: middle;\n",
       "    }\n",
       "\n",
       "    .dataframe tbody tr th {\n",
       "        vertical-align: top;\n",
       "    }\n",
       "\n",
       "    .dataframe thead th {\n",
       "        text-align: right;\n",
       "    }\n",
       "</style>\n",
       "<table border=\"1\" class=\"dataframe\">\n",
       "  <thead>\n",
       "    <tr style=\"text-align: right;\">\n",
       "      <th></th>\n",
       "      <th>adj_close_price</th>\n",
       "    </tr>\n",
       "  </thead>\n",
       "  <tbody>\n",
       "    <tr>\n",
       "      <th>0</th>\n",
       "      <td>12469</td>\n",
       "    </tr>\n",
       "    <tr>\n",
       "      <th>1</th>\n",
       "      <td>12472</td>\n",
       "    </tr>\n",
       "    <tr>\n",
       "      <th>2</th>\n",
       "      <td>12474</td>\n",
       "    </tr>\n",
       "    <tr>\n",
       "      <th>3</th>\n",
       "      <td>12480</td>\n",
       "    </tr>\n",
       "    <tr>\n",
       "      <th>4</th>\n",
       "      <td>12398</td>\n",
       "    </tr>\n",
       "    <tr>\n",
       "      <th>...</th>\n",
       "      <td>...</td>\n",
       "    </tr>\n",
       "    <tr>\n",
       "      <th>3648</th>\n",
       "      <td>19945</td>\n",
       "    </tr>\n",
       "    <tr>\n",
       "      <th>3649</th>\n",
       "      <td>19833</td>\n",
       "    </tr>\n",
       "    <tr>\n",
       "      <th>3650</th>\n",
       "      <td>19819</td>\n",
       "    </tr>\n",
       "    <tr>\n",
       "      <th>3651</th>\n",
       "      <td>19762</td>\n",
       "    </tr>\n",
       "    <tr>\n",
       "      <th>3652</th>\n",
       "      <td>19762</td>\n",
       "    </tr>\n",
       "  </tbody>\n",
       "</table>\n",
       "<p>3653 rows × 1 columns</p>\n",
       "</div>"
      ],
      "text/plain": [
       "      adj_close_price\n",
       "0               12469\n",
       "1               12472\n",
       "2               12474\n",
       "3               12480\n",
       "4               12398\n",
       "...               ...\n",
       "3648            19945\n",
       "3649            19833\n",
       "3650            19819\n",
       "3651            19762\n",
       "3652            19762\n",
       "\n",
       "[3653 rows x 1 columns]"
      ]
     },
     "execution_count": 8,
     "metadata": {},
     "output_type": "execute_result"
    }
   ],
   "source": [
    "dataframe = stocks_dataf[['adj_close_price']].copy()\n",
    "dataframe"
   ]
  },
  {
   "cell_type": "code",
   "execution_count": 9,
   "metadata": {
    "ExecuteTime": {
     "end_time": "2021-09-22T09:53:33.007730Z",
     "start_time": "2021-09-22T09:53:32.990777Z"
    },
    "scrolled": true
   },
   "outputs": [],
   "source": [
    "dataframe[\"Comp\"] = ''\n",
    "dataframe[\"Negative\"] = ''\n",
    "dataframe[\"Neutral\"] = ''\n",
    "dataframe[\"Positive\"] = ''"
   ]
  },
  {
   "cell_type": "code",
   "execution_count": 10,
   "metadata": {
    "ExecuteTime": {
     "end_time": "2021-09-22T09:53:33.273715Z",
     "start_time": "2021-09-22T09:53:33.258723Z"
    }
   },
   "outputs": [
    {
     "data": {
      "text/html": [
       "<div>\n",
       "<style scoped>\n",
       "    .dataframe tbody tr th:only-of-type {\n",
       "        vertical-align: middle;\n",
       "    }\n",
       "\n",
       "    .dataframe tbody tr th {\n",
       "        vertical-align: top;\n",
       "    }\n",
       "\n",
       "    .dataframe thead th {\n",
       "        text-align: right;\n",
       "    }\n",
       "</style>\n",
       "<table border=\"1\" class=\"dataframe\">\n",
       "  <thead>\n",
       "    <tr style=\"text-align: right;\">\n",
       "      <th></th>\n",
       "      <th>adj_close_price</th>\n",
       "      <th>Comp</th>\n",
       "      <th>Negative</th>\n",
       "      <th>Neutral</th>\n",
       "      <th>Positive</th>\n",
       "    </tr>\n",
       "  </thead>\n",
       "  <tbody>\n",
       "    <tr>\n",
       "      <th>0</th>\n",
       "      <td>12469</td>\n",
       "      <td></td>\n",
       "      <td></td>\n",
       "      <td></td>\n",
       "      <td></td>\n",
       "    </tr>\n",
       "    <tr>\n",
       "      <th>1</th>\n",
       "      <td>12472</td>\n",
       "      <td></td>\n",
       "      <td></td>\n",
       "      <td></td>\n",
       "      <td></td>\n",
       "    </tr>\n",
       "    <tr>\n",
       "      <th>2</th>\n",
       "      <td>12474</td>\n",
       "      <td></td>\n",
       "      <td></td>\n",
       "      <td></td>\n",
       "      <td></td>\n",
       "    </tr>\n",
       "    <tr>\n",
       "      <th>3</th>\n",
       "      <td>12480</td>\n",
       "      <td></td>\n",
       "      <td></td>\n",
       "      <td></td>\n",
       "      <td></td>\n",
       "    </tr>\n",
       "    <tr>\n",
       "      <th>4</th>\n",
       "      <td>12398</td>\n",
       "      <td></td>\n",
       "      <td></td>\n",
       "      <td></td>\n",
       "      <td></td>\n",
       "    </tr>\n",
       "    <tr>\n",
       "      <th>...</th>\n",
       "      <td>...</td>\n",
       "      <td>...</td>\n",
       "      <td>...</td>\n",
       "      <td>...</td>\n",
       "      <td>...</td>\n",
       "    </tr>\n",
       "    <tr>\n",
       "      <th>3648</th>\n",
       "      <td>19945</td>\n",
       "      <td></td>\n",
       "      <td></td>\n",
       "      <td></td>\n",
       "      <td></td>\n",
       "    </tr>\n",
       "    <tr>\n",
       "      <th>3649</th>\n",
       "      <td>19833</td>\n",
       "      <td></td>\n",
       "      <td></td>\n",
       "      <td></td>\n",
       "      <td></td>\n",
       "    </tr>\n",
       "    <tr>\n",
       "      <th>3650</th>\n",
       "      <td>19819</td>\n",
       "      <td></td>\n",
       "      <td></td>\n",
       "      <td></td>\n",
       "      <td></td>\n",
       "    </tr>\n",
       "    <tr>\n",
       "      <th>3651</th>\n",
       "      <td>19762</td>\n",
       "      <td></td>\n",
       "      <td></td>\n",
       "      <td></td>\n",
       "      <td></td>\n",
       "    </tr>\n",
       "    <tr>\n",
       "      <th>3652</th>\n",
       "      <td>19762</td>\n",
       "      <td></td>\n",
       "      <td></td>\n",
       "      <td></td>\n",
       "      <td></td>\n",
       "    </tr>\n",
       "  </tbody>\n",
       "</table>\n",
       "<p>3653 rows × 5 columns</p>\n",
       "</div>"
      ],
      "text/plain": [
       "      adj_close_price Comp Negative Neutral Positive\n",
       "0               12469                               \n",
       "1               12472                               \n",
       "2               12474                               \n",
       "3               12480                               \n",
       "4               12398                               \n",
       "...               ...  ...      ...     ...      ...\n",
       "3648            19945                               \n",
       "3649            19833                               \n",
       "3650            19819                               \n",
       "3651            19762                               \n",
       "3652            19762                               \n",
       "\n",
       "[3653 rows x 5 columns]"
      ]
     },
     "execution_count": 10,
     "metadata": {},
     "output_type": "execute_result"
    }
   ],
   "source": [
    "dataframe"
   ]
  },
  {
   "cell_type": "code",
   "execution_count": 12,
   "metadata": {
    "ExecuteTime": {
     "end_time": "2021-09-22T09:53:33.648061Z",
     "start_time": "2021-09-22T09:53:33.632101Z"
    }
   },
   "outputs": [
    {
     "name": "stderr",
     "output_type": "stream",
     "text": [
      "[nltk_data] Downloading package vader_lexicon to\n",
      "[nltk_data]     /Users/zhouxingwei/opt/miniconda3/nltk_data...\n",
      "[nltk_data]   Package vader_lexicon is already up-to-date!\n"
     ]
    },
    {
     "data": {
      "text/plain": [
       "True"
      ]
     },
     "execution_count": 12,
     "metadata": {},
     "output_type": "execute_result"
    }
   ],
   "source": [
    "import nltk\n",
    "nltk.download('vader_lexicon')"
   ]
  },
  {
   "cell_type": "code",
   "execution_count": 13,
   "metadata": {
    "ExecuteTime": {
     "end_time": "2021-09-22T09:54:26.035857Z",
     "start_time": "2021-09-22T09:53:34.094155Z"
    }
   },
   "outputs": [
    {
     "name": "stderr",
     "output_type": "stream",
     "text": [
      "/var/folders/6h/0cw63sbs0cl_9hz8mj2d3jl40000gn/T/ipykernel_43531/269771145.py:9: SettingWithCopyWarning: \n",
      "A value is trying to be set on a copy of a slice from a DataFrame\n",
      "\n",
      "See the caveats in the documentation: https://pandas.pydata.org/pandas-docs/stable/user_guide/indexing.html#returning-a-view-versus-a-copy\n",
      "  dataframe['Comp'].iloc[indexx] = sentence_sentiment['compound']\n",
      "/var/folders/6h/0cw63sbs0cl_9hz8mj2d3jl40000gn/T/ipykernel_43531/269771145.py:10: SettingWithCopyWarning: \n",
      "A value is trying to be set on a copy of a slice from a DataFrame\n",
      "\n",
      "See the caveats in the documentation: https://pandas.pydata.org/pandas-docs/stable/user_guide/indexing.html#returning-a-view-versus-a-copy\n",
      "  dataframe['Negative'].iloc[indexx] = sentence_sentiment['neg']\n",
      "/var/folders/6h/0cw63sbs0cl_9hz8mj2d3jl40000gn/T/ipykernel_43531/269771145.py:11: SettingWithCopyWarning: \n",
      "A value is trying to be set on a copy of a slice from a DataFrame\n",
      "\n",
      "See the caveats in the documentation: https://pandas.pydata.org/pandas-docs/stable/user_guide/indexing.html#returning-a-view-versus-a-copy\n",
      "  dataframe['Neutral'].iloc[indexx] = sentence_sentiment['neu']\n",
      "/var/folders/6h/0cw63sbs0cl_9hz8mj2d3jl40000gn/T/ipykernel_43531/269771145.py:12: SettingWithCopyWarning: \n",
      "A value is trying to be set on a copy of a slice from a DataFrame\n",
      "\n",
      "See the caveats in the documentation: https://pandas.pydata.org/pandas-docs/stable/user_guide/indexing.html#returning-a-view-versus-a-copy\n",
      "  dataframe['Positive'].iloc[indexx] = sentence_sentiment['compound']\n"
     ]
    }
   ],
   "source": [
    "from nltk.sentiment.vader import SentimentIntensityAnalyzer\n",
    "from nltk.sentiment.vader import SentimentIntensityAnalyzer\n",
    "import unicodedata\n",
    "sentiment_i_a = SentimentIntensityAnalyzer()\n",
    "for indexx, row in dataframe.T.iteritems():\n",
    "    try:\n",
    "        sentence_i = unicodedata.normalize('NFKD', stocks_dataf.loc[indexx, 'Tweets'])\n",
    "        sentence_sentiment = sentiment_i_a.polarity_scores(sentence_i)\n",
    "        dataframe['Comp'].iloc[indexx] = sentence_sentiment['compound']\n",
    "        dataframe['Negative'].iloc[indexx] = sentence_sentiment['neg']\n",
    "        dataframe['Neutral'].iloc[indexx] = sentence_sentiment['neu']\n",
    "        dataframe['Positive'].iloc[indexx] = sentence_sentiment['compound']\n",
    "        '''dataframe.set_index(indexx, 'Comp', sentence_sentiment['compound'])\n",
    "        dataframe.set_index(indexx, 'Negative', sentence_sentiment['neg'])\n",
    "        dataframe.set_index(indexx, 'Neutral', sentence_sentiment['neu'])\n",
    "        dataframe.set_index(indexx, 'Positive', sentence_sentiment['pos'])'''\n",
    "    except TypeError:\n",
    "        print (stocks_dataf.loc[indexx, 'Tweets'])\n",
    "        print (indexx)"
   ]
  },
  {
   "cell_type": "code",
   "execution_count": 14,
   "metadata": {
    "ExecuteTime": {
     "end_time": "2021-09-22T09:55:10.893144Z",
     "start_time": "2021-09-22T09:55:10.882175Z"
    }
   },
   "outputs": [
    {
     "data": {
      "text/html": [
       "<div>\n",
       "<style scoped>\n",
       "    .dataframe tbody tr th:only-of-type {\n",
       "        vertical-align: middle;\n",
       "    }\n",
       "\n",
       "    .dataframe tbody tr th {\n",
       "        vertical-align: top;\n",
       "    }\n",
       "\n",
       "    .dataframe thead th {\n",
       "        text-align: right;\n",
       "    }\n",
       "</style>\n",
       "<table border=\"1\" class=\"dataframe\">\n",
       "  <thead>\n",
       "    <tr style=\"text-align: right;\">\n",
       "      <th></th>\n",
       "      <th>adj_close_price</th>\n",
       "      <th>Comp</th>\n",
       "      <th>Negative</th>\n",
       "      <th>Neutral</th>\n",
       "      <th>Positive</th>\n",
       "    </tr>\n",
       "  </thead>\n",
       "  <tbody>\n",
       "    <tr>\n",
       "      <th>0</th>\n",
       "      <td>12469</td>\n",
       "      <td>-0.9814</td>\n",
       "      <td>0.159</td>\n",
       "      <td>0.749</td>\n",
       "      <td>-0.9814</td>\n",
       "    </tr>\n",
       "    <tr>\n",
       "      <th>1</th>\n",
       "      <td>12472</td>\n",
       "      <td>-0.8521</td>\n",
       "      <td>0.116</td>\n",
       "      <td>0.785</td>\n",
       "      <td>-0.8521</td>\n",
       "    </tr>\n",
       "    <tr>\n",
       "      <th>2</th>\n",
       "      <td>12474</td>\n",
       "      <td>-0.9993</td>\n",
       "      <td>0.198</td>\n",
       "      <td>0.737</td>\n",
       "      <td>-0.9993</td>\n",
       "    </tr>\n",
       "    <tr>\n",
       "      <th>3</th>\n",
       "      <td>12480</td>\n",
       "      <td>-0.9982</td>\n",
       "      <td>0.131</td>\n",
       "      <td>0.806</td>\n",
       "      <td>-0.9982</td>\n",
       "    </tr>\n",
       "    <tr>\n",
       "      <th>4</th>\n",
       "      <td>12398</td>\n",
       "      <td>-0.9901</td>\n",
       "      <td>0.124</td>\n",
       "      <td>0.794</td>\n",
       "      <td>-0.9901</td>\n",
       "    </tr>\n",
       "    <tr>\n",
       "      <th>...</th>\n",
       "      <td>...</td>\n",
       "      <td>...</td>\n",
       "      <td>...</td>\n",
       "      <td>...</td>\n",
       "      <td>...</td>\n",
       "    </tr>\n",
       "    <tr>\n",
       "      <th>3648</th>\n",
       "      <td>19945</td>\n",
       "      <td>-0.9898</td>\n",
       "      <td>0.178</td>\n",
       "      <td>0.719</td>\n",
       "      <td>-0.9898</td>\n",
       "    </tr>\n",
       "    <tr>\n",
       "      <th>3649</th>\n",
       "      <td>19833</td>\n",
       "      <td>-0.9844</td>\n",
       "      <td>0.177</td>\n",
       "      <td>0.704</td>\n",
       "      <td>-0.9844</td>\n",
       "    </tr>\n",
       "    <tr>\n",
       "      <th>3650</th>\n",
       "      <td>19819</td>\n",
       "      <td>-0.9782</td>\n",
       "      <td>0.14</td>\n",
       "      <td>0.761</td>\n",
       "      <td>-0.9782</td>\n",
       "    </tr>\n",
       "    <tr>\n",
       "      <th>3651</th>\n",
       "      <td>19762</td>\n",
       "      <td>-0.995</td>\n",
       "      <td>0.168</td>\n",
       "      <td>0.734</td>\n",
       "      <td>-0.995</td>\n",
       "    </tr>\n",
       "    <tr>\n",
       "      <th>3652</th>\n",
       "      <td>19762</td>\n",
       "      <td>-0.2869</td>\n",
       "      <td>0.173</td>\n",
       "      <td>0.665</td>\n",
       "      <td>-0.2869</td>\n",
       "    </tr>\n",
       "  </tbody>\n",
       "</table>\n",
       "<p>3653 rows × 5 columns</p>\n",
       "</div>"
      ],
      "text/plain": [
       "      adj_close_price    Comp Negative Neutral Positive\n",
       "0               12469 -0.9814    0.159   0.749  -0.9814\n",
       "1               12472 -0.8521    0.116   0.785  -0.8521\n",
       "2               12474 -0.9993    0.198   0.737  -0.9993\n",
       "3               12480 -0.9982    0.131   0.806  -0.9982\n",
       "4               12398 -0.9901    0.124   0.794  -0.9901\n",
       "...               ...     ...      ...     ...      ...\n",
       "3648            19945 -0.9898    0.178   0.719  -0.9898\n",
       "3649            19833 -0.9844    0.177   0.704  -0.9844\n",
       "3650            19819 -0.9782     0.14   0.761  -0.9782\n",
       "3651            19762  -0.995    0.168   0.734   -0.995\n",
       "3652            19762 -0.2869    0.173   0.665  -0.2869\n",
       "\n",
       "[3653 rows x 5 columns]"
      ]
     },
     "execution_count": 14,
     "metadata": {},
     "output_type": "execute_result"
    }
   ],
   "source": [
    "dataframe"
   ]
  },
  {
   "cell_type": "code",
   "execution_count": 17,
   "metadata": {
    "ExecuteTime": {
     "end_time": "2021-09-22T09:55:12.166877Z",
     "start_time": "2021-09-22T09:55:12.067276Z"
    }
   },
   "outputs": [
    {
     "name": "stdout",
     "output_type": "stream",
     "text": [
      "Percentage of positive tweets is  44.34711196277033\n",
      "Percentage of negative tweets is  55.43388995346291\n"
     ]
    },
    {
     "data": {
      "text/plain": [
       "[]"
      ]
     },
     "execution_count": 17,
     "metadata": {},
     "output_type": "execute_result"
    },
    {
     "data": {
      "image/png": "[encoded data removed]",
      "text/plain": [
       "<Figure size 432x288 with 1 Axes>"
      ]
     },
     "metadata": {},
     "output_type": "display_data"
    }
   ],
   "source": [
    "posi=0\n",
    "nega=0\n",
    "for i in range (0,len(dataframe)):\n",
    "    get_val=dataframe.Comp[i]\n",
    "    if(float(get_val)<(-0.99)):\n",
    "        nega=nega+1\n",
    "    if(float(get_val>(-0.99))):\n",
    "        posi=posi+1\n",
    "posper=(posi/(len(dataframe)))*100\n",
    "negper=(nega/(len(dataframe)))*100\n",
    "print(\"Percentage of positive tweets is \",posper)\n",
    "print(\"Percentage of negative tweets is \",negper)\n",
    "arr=np.asarray([posper,negper], dtype=int)\n",
    "mlpt.pie(arr,labels=['positive','negative'])\n",
    "mlpt.plot()"
   ]
  },
  {
   "cell_type": "code",
   "execution_count": 127,
   "metadata": {},
   "outputs": [
    {
     "data": {
      "text/html": [
       "<div>\n",
       "<style scoped>\n",
       "    .dataframe tbody tr th:only-of-type {\n",
       "        vertical-align: middle;\n",
       "    }\n",
       "\n",
       "    .dataframe tbody tr th {\n",
       "        vertical-align: top;\n",
       "    }\n",
       "\n",
       "    .dataframe thead th {\n",
       "        text-align: right;\n",
       "    }\n",
       "</style>\n",
       "<table border=\"1\" class=\"dataframe\">\n",
       "  <thead>\n",
       "    <tr style=\"text-align: right;\">\n",
       "      <th></th>\n",
       "      <th>adj_close_price</th>\n",
       "      <th>Comp</th>\n",
       "      <th>Negative</th>\n",
       "      <th>Neutral</th>\n",
       "      <th>Positive</th>\n",
       "    </tr>\n",
       "    <tr>\n",
       "      <th>Date</th>\n",
       "      <th></th>\n",
       "      <th></th>\n",
       "      <th></th>\n",
       "      <th></th>\n",
       "      <th></th>\n",
       "    </tr>\n",
       "  </thead>\n",
       "  <tbody>\n",
       "    <tr>\n",
       "      <th>2007-01-01</th>\n",
       "      <td>12469</td>\n",
       "      <td>-0.9814</td>\n",
       "      <td>0.159</td>\n",
       "      <td>0.749</td>\n",
       "      <td>-0.9814</td>\n",
       "    </tr>\n",
       "    <tr>\n",
       "      <th>2007-01-02</th>\n",
       "      <td>12472</td>\n",
       "      <td>-0.8521</td>\n",
       "      <td>0.116</td>\n",
       "      <td>0.785</td>\n",
       "      <td>-0.8521</td>\n",
       "    </tr>\n",
       "    <tr>\n",
       "      <th>2007-01-03</th>\n",
       "      <td>12474</td>\n",
       "      <td>-0.9993</td>\n",
       "      <td>0.198</td>\n",
       "      <td>0.737</td>\n",
       "      <td>-0.9993</td>\n",
       "    </tr>\n",
       "    <tr>\n",
       "      <th>2007-01-04</th>\n",
       "      <td>12480</td>\n",
       "      <td>-0.9982</td>\n",
       "      <td>0.131</td>\n",
       "      <td>0.806</td>\n",
       "      <td>-0.9982</td>\n",
       "    </tr>\n",
       "    <tr>\n",
       "      <th>2007-01-05</th>\n",
       "      <td>12398</td>\n",
       "      <td>-0.9901</td>\n",
       "      <td>0.124</td>\n",
       "      <td>0.794</td>\n",
       "      <td>-0.9901</td>\n",
       "    </tr>\n",
       "    <tr>\n",
       "      <th>...</th>\n",
       "      <td>...</td>\n",
       "      <td>...</td>\n",
       "      <td>...</td>\n",
       "      <td>...</td>\n",
       "      <td>...</td>\n",
       "    </tr>\n",
       "    <tr>\n",
       "      <th>2016-12-27</th>\n",
       "      <td>19945</td>\n",
       "      <td>-0.9898</td>\n",
       "      <td>0.178</td>\n",
       "      <td>0.719</td>\n",
       "      <td>-0.9898</td>\n",
       "    </tr>\n",
       "    <tr>\n",
       "      <th>2016-12-28</th>\n",
       "      <td>19833</td>\n",
       "      <td>-0.9844</td>\n",
       "      <td>0.177</td>\n",
       "      <td>0.704</td>\n",
       "      <td>-0.9844</td>\n",
       "    </tr>\n",
       "    <tr>\n",
       "      <th>2016-12-29</th>\n",
       "      <td>19819</td>\n",
       "      <td>-0.9782</td>\n",
       "      <td>0.14</td>\n",
       "      <td>0.761</td>\n",
       "      <td>-0.9782</td>\n",
       "    </tr>\n",
       "    <tr>\n",
       "      <th>2016-12-30</th>\n",
       "      <td>19762</td>\n",
       "      <td>-0.995</td>\n",
       "      <td>0.168</td>\n",
       "      <td>0.734</td>\n",
       "      <td>-0.995</td>\n",
       "    </tr>\n",
       "    <tr>\n",
       "      <th>2016-12-31</th>\n",
       "      <td>19762</td>\n",
       "      <td>-0.2869</td>\n",
       "      <td>0.173</td>\n",
       "      <td>0.665</td>\n",
       "      <td>-0.2869</td>\n",
       "    </tr>\n",
       "  </tbody>\n",
       "</table>\n",
       "<p>3653 rows × 5 columns</p>\n",
       "</div>"
      ],
      "text/plain": [
       "            adj_close_price    Comp Negative Neutral Positive\n",
       "Date                                                         \n",
       "2007-01-01            12469 -0.9814    0.159   0.749  -0.9814\n",
       "2007-01-02            12472 -0.8521    0.116   0.785  -0.8521\n",
       "2007-01-03            12474 -0.9993    0.198   0.737  -0.9993\n",
       "2007-01-04            12480 -0.9982    0.131   0.806  -0.9982\n",
       "2007-01-05            12398 -0.9901    0.124   0.794  -0.9901\n",
       "...                     ...     ...      ...     ...      ...\n",
       "2016-12-27            19945 -0.9898    0.178   0.719  -0.9898\n",
       "2016-12-28            19833 -0.9844    0.177   0.704  -0.9844\n",
       "2016-12-29            19819 -0.9782     0.14   0.761  -0.9782\n",
       "2016-12-30            19762  -0.995    0.168   0.734   -0.995\n",
       "2016-12-31            19762 -0.2869    0.173   0.665  -0.2869\n",
       "\n",
       "[3653 rows x 5 columns]"
      ]
     },
     "execution_count": 127,
     "metadata": {},
     "output_type": "execute_result"
    }
   ],
   "source": [
    "dataframe.index = stocks_dataf['Date']\n",
    "dataframe"
   ]
  },
  {
   "cell_type": "markdown",
   "metadata": {},
   "source": [
    "#### Set the training data set and test data set according to the date."
   ]
  },
  {
   "cell_type": "code",
   "execution_count": 128,
   "metadata": {
    "ExecuteTime": {
     "end_time": "2021-09-22T10:00:56.687639Z",
     "start_time": "2021-09-22T10:00:56.675673Z"
    },
    "scrolled": true
   },
   "outputs": [],
   "source": [
    "train_data_start = '2007-01-01'\n",
    "train_data_end = '2014-12-31'\n",
    "test_data_start = '2015-01-01'\n",
    "test_data_end = '2016-12-31'\n",
    "train = dataframe.loc[train_data_start : train_data_end]\n",
    "test = dataframe.loc[test_data_start:test_data_end]"
   ]
  },
  {
   "cell_type": "code",
   "execution_count": 129,
   "metadata": {
    "ExecuteTime": {
     "end_time": "2021-09-22T10:01:05.774347Z",
     "start_time": "2021-09-22T10:01:05.425205Z"
    }
   },
   "outputs": [],
   "source": [
    "list_of_sentiments_score = []\n",
    "for date, row in train.T.iteritems():\n",
    "    sentiment_score = np.asarray([dataframe.loc[date, 'Comp']])\n",
    "    list_of_sentiments_score.append(sentiment_score)\n",
    "numpy_dataframe_train = np.asarray(list_of_sentiments_score)"
   ]
  },
  {
   "cell_type": "code",
   "execution_count": 130,
   "metadata": {
    "ExecuteTime": {
     "end_time": "2021-09-22T10:01:06.522464Z",
     "start_time": "2021-09-22T10:01:06.446284Z"
    }
   },
   "outputs": [],
   "source": [
    "list_of_sentiments_score = []\n",
    "for date, row in test.T.iteritems():\n",
    "    sentiment_score = np.asarray([dataframe.loc[date, 'Comp']])\n",
    "    list_of_sentiments_score.append(sentiment_score)\n",
    "numpy_dataframe_test = np.asarray(list_of_sentiments_score)"
   ]
  },
  {
   "cell_type": "code",
   "execution_count": 131,
   "metadata": {
    "ExecuteTime": {
     "end_time": "2021-09-22T10:01:07.835050Z",
     "start_time": "2021-09-22T10:01:07.829033Z"
    }
   },
   "outputs": [],
   "source": [
    "y_train = pd.DataFrame(train['adj_close_price'])\n",
    "y_test = pd.DataFrame(test['adj_close_price'])"
   ]
  },
  {
   "cell_type": "code",
   "execution_count": 132,
   "metadata": {
    "ExecuteTime": {
     "end_time": "2021-09-22T10:01:12.819579Z",
     "start_time": "2021-09-22T10:01:12.811605Z"
    }
   },
   "outputs": [],
   "source": [
    "from sklearn.metrics import precision_score\n",
    "from sklearn.metrics import precision_recall_curve\n",
    "from sklearn.metrics import accuracy_score"
   ]
  },
  {
   "cell_type": "code",
   "execution_count": 133,
   "metadata": {
    "ExecuteTime": {
     "end_time": "2021-09-22T10:02:15.400475Z",
     "start_time": "2021-09-22T10:02:14.807577Z"
    }
   },
   "outputs": [
    {
     "name": "stdout",
     "output_type": "stream",
     "text": [
      "0.29341364509830814\n"
     ]
    },
    {
     "name": "stderr",
     "output_type": "stream",
     "text": [
      "/var/folders/6h/0cw63sbs0cl_9hz8mj2d3jl40000gn/T/ipykernel_41862/1569841466.py:19: SettingWithCopyWarning: \n",
      "A value is trying to be set on a copy of a slice from a DataFrame.\n",
      "Try using .loc[row_indexer,col_indexer] = value instead\n",
      "\n",
      "See the caveats in the documentation: https://pandas.pydata.org/pandas-docs/stable/user_guide/indexing.html#returning-a-view-versus-a-copy\n",
      "  test['adj_close_price']=test['adj_close_price'].apply(np.int64)\n"
     ]
    },
    {
     "data": {
      "image/png": "[encoded data removed]",
      "text/plain": [
       "<Figure size 432x288 with 1 Axes>"
      ]
     },
     "metadata": {
      "needs_background": "light"
     },
     "output_type": "display_data"
    }
   ],
   "source": [
    "# from treeinterpreter import treeinterpreter as ti\n",
    "from sklearn.tree import DecisionTreeRegressor\n",
    "from sklearn.ensemble import RandomForestRegressor\n",
    "from sklearn.metrics import classification_report,confusion_matrix\n",
    "\n",
    "rf = RandomForestRegressor()\n",
    "rf.fit(numpy_dataframe_train, train['adj_close_price'])\n",
    "prediction=rf.predict(numpy_dataframe_test)\n",
    "import matplotlib.pyplot as plt\n",
    "%matplotlib inline\n",
    "idx = pd.date_range(test_data_start, test_data_end)\n",
    "predictions_df = pd.DataFrame(data=prediction[0:], index = idx, columns=['adj_close_price'])\n",
    "predictions_df['adj_close_price'] = predictions_df['adj_close_price'].apply(np.int64)\n",
    "predictions_df['adj_close_price'] = predictions_df['adj_close_price'] + 4500\n",
    "predictions_df['actual_value'] = test['adj_close_price']\n",
    "predictions_df.columns = ['predicted_price', 'actual_price']\n",
    "predictions_df.plot()\n",
    "predictions_df['predicted_price'] = predictions_df['predicted_price'].apply(np.int64)\n",
    "test['adj_close_price']=test['adj_close_price'].apply(np.int64)\n",
    "#print(accuracy_score(test['adj_close_price'],predictions_df['predicted_price']))\n",
    "print(rf.score(numpy_dataframe_train, train['adj_close_price']))"
   ]
  },
  {
   "cell_type": "code",
   "execution_count": 164,
   "metadata": {
    "ExecuteTime": {
     "end_time": "2021-09-22T10:02:35.954545Z",
     "start_time": "2021-09-22T10:02:35.939586Z"
    }
   },
   "outputs": [],
   "source": [
    "# from sklearn.neural_network import MLPClassifier\n",
    "# mlpc = MLPClassifier(hidden_layer_sizes=(10,), activation='relu', #'relu', the rectified linear unit function\n",
    "#                      solver='lbfgs', alpha=0.005, learning_rate_init = 0.001, shuffle=False)\n",
    "# \"\"\"Hidden_Layer_Sizes: tuple, length = n_layers - 2, default (100,)\n",
    "# The ith element represents the number of Neutralrons in the ith\n",
    "# hidden layer.\"\"\"\n",
    "# mlpc.fit(numpy_dataframe_train, train['adj_close_price'])   \n",
    "# prediction = mlpc.predict(numpy_dataframe_test)\n",
    "# import matplotlib.pyplot as plt\n",
    "# %matplotlib inline\n",
    "# idx = pd.date_range(test_data_start, test_data_end)\n",
    "# predictions_df = pd.DataFrame(data=prediction[0:], index = idx, columns=['adj_close_price'])\n",
    "# predictions_df['adj_close_price'] = predictions_df['adj_close_price'].apply(np.int64)\n",
    "# predictions_df['adj_close_price'] = predictions_df['adj_close_price'] +4500\n",
    "# predictions_df['actual_value'] = test['adj_close_price']\n",
    "# predictions_df.columns = ['predicted_price', 'actual_price']\n",
    "# predictions_df.plot()\n",
    "# predictions_df['predicted_price'] = predictions_df['predicted_price'].apply(np.int64)\n",
    "# test['adj_close_price']=test['adj_close_price'].apply(np.int64)"
   ]
  },
  {
   "cell_type": "code",
   "execution_count": 165,
   "metadata": {
    "ExecuteTime": {
     "end_time": "2021-09-22T10:02:38.932985Z",
     "start_time": "2021-09-22T10:02:38.925007Z"
    }
   },
   "outputs": [],
   "source": [
    "# print(mlpc.score(numpy_dataframe_train, train['adj_close_price']))\n",
    "#print(accuracy_score(test['adj_close_price'],predictions_df['predicted_price']))"
   ]
  },
  {
   "cell_type": "code",
   "execution_count": 134,
   "metadata": {
    "ExecuteTime": {
     "end_time": "2021-09-22T10:03:53.174134Z",
     "start_time": "2021-09-22T10:03:52.924804Z"
    },
    "scrolled": true
   },
   "outputs": [
    {
     "name": "stderr",
     "output_type": "stream",
     "text": [
      "/var/folders/6h/0cw63sbs0cl_9hz8mj2d3jl40000gn/T/ipykernel_41862/1125772173.py:20: SettingWithCopyWarning: \n",
      "A value is trying to be set on a copy of a slice from a DataFrame.\n",
      "Try using .loc[row_indexer,col_indexer] = value instead\n",
      "\n",
      "See the caveats in the documentation: https://pandas.pydata.org/pandas-docs/stable/user_guide/indexing.html#returning-a-view-versus-a-copy\n",
      "  test['adj_close_price']=test['adj_close_price'].apply(np.int64)\n"
     ]
    },
    {
     "data": {
      "image/png": "[encoded data removed]",
      "text/plain": [
       "<Figure size 432x288 with 1 Axes>"
      ]
     },
     "metadata": {
      "needs_background": "light"
     },
     "output_type": "display_data"
    }
   ],
   "source": [
    "# from sklearn import datasets\n",
    "# from datetime import datetime, timedelta\n",
    "# from sklearn.naive_bayes import GaussianNB\n",
    "from sklearn import datasets, linear_model\n",
    "# from sklearn.metrics import mean_squared_error, r2_score\n",
    "\n",
    "regr = linear_model.LinearRegression()\n",
    "regr.fit(numpy_dataframe_train, train['adj_close_price'])   \n",
    "prediction = regr.predict(numpy_dataframe_test)\n",
    "import matplotlib.pyplot as plt\n",
    "%matplotlib inline\n",
    "idx = pd.date_range(test_data_start, test_data_end)\n",
    "predictions_df = pd.DataFrame(data=prediction[0:], index = idx, columns=['adj_close_price'])\n",
    "predictions_df['adj_close_price'] = predictions_df['adj_close_price'].apply(np.int64)\n",
    "predictions_df['adj_close_price'] = predictions_df['adj_close_price']\n",
    "predictions_df['actual_value'] = test['adj_close_price']\n",
    "predictions_df.columns = ['predicted_price', 'actual_price']\n",
    "predictions_df.plot()\n",
    "predictions_df['predicted_price'] = predictions_df['predicted_price'].apply(np.int64)\n",
    "test['adj_close_price']=test['adj_close_price'].apply(np.int64)"
   ]
  },
  {
   "cell_type": "code",
   "execution_count": 135,
   "metadata": {
    "ExecuteTime": {
     "end_time": "2021-09-22T10:32:28.464642Z",
     "start_time": "2021-09-22T10:32:28.023832Z"
    },
    "scrolled": true
   },
   "outputs": [
    {
     "name": "stdout",
     "output_type": "stream",
     "text": [
      "0.1\n"
     ]
    },
    {
     "data": {
      "image/png": "[encoded data removed]",
      "text/plain": [
       "<Figure size 432x288 with 1 Axes>"
      ]
     },
     "metadata": {
      "needs_background": "light"
     },
     "output_type": "display_data"
    }
   ],
   "source": [
    "from treeinterpreter import treeinterpreter as tree_interpreter\n",
    "# from sklearn.tree import DecisionTreeRegressor\n",
    "from sklearn.ensemble import RandomForestRegressor\n",
    "# from sklearn.linear_model import LogisticRegression\n",
    "# from datetime import datetime, timedelta\n",
    "years = [2007, 2008, 2009, 2010, 2011, 2012, 2013, 2014, 2015, 2016]\n",
    "prediction_list = []\n",
    "for year in years:\n",
    "    train_data_start = str(year) + '-01-01'\n",
    "    train_data_end = str(year) + '-08-31'\n",
    "    test_data_start = str(year) + '-09-01'\n",
    "    test_data_end = str(year) + '-12-31'\n",
    "    train = dataframe.loc[train_data_start : train_data_end]\n",
    "    test = dataframe.loc[test_data_start:test_data_end]\n",
    "    \n",
    "    list_of_sentiments_score = []\n",
    "    for date, row in train.T.iteritems():\n",
    "        sentiment_score = np.asarray([dataframe.loc[date, 'Comp'],dataframe.loc[date, 'Negative'],dataframe.loc[date, 'Neutral'],dataframe.loc[date, 'Positive']])\n",
    "        list_of_sentiments_score.append(sentiment_score)\n",
    "    numpy_dataframe_train = np.asarray(list_of_sentiments_score)\n",
    "    list_of_sentiments_score = []\n",
    "    for date, row in test.T.iteritems():\n",
    "        sentiment_score = np.asarray([dataframe.loc[date, 'Comp'],dataframe.loc[date, 'Negative'],dataframe.loc[date, 'Neutral'],dataframe.loc[date, 'Positive']])\n",
    "        list_of_sentiments_score.append(sentiment_score)\n",
    "    numpy_dataframe_test = np.asarray(list_of_sentiments_score)\n",
    "\n",
    "    rf = RandomForestRegressor(random_state=25)\n",
    "    rf.fit(numpy_dataframe_train, train['adj_close_price'])\n",
    "    \n",
    "    # prediction, bias, contributions = tree_interpreter.predict(rf, numpy_dataframe_test)\n",
    "    prediction = rf.predict(numpy_dataframe_test)\n",
    "    prediction_list.append(prediction)\n",
    "    #print(\"ACCURACY= \",rf.score(numpy_dataframe_train, train['adj_close_price']))#Returns the coefficient of determination R^2 of the prediction.\n",
    "    idx = pd.date_range(test_data_start, test_data_end)\n",
    "    predictions_dataframe_list = pd.DataFrame(data=prediction[0:], index = idx, columns=['adj_close_price'])\n",
    "\n",
    "    #difference_test_predicted_prices = offset_value(test_data_start, test, predictions_dataframe_list)\n",
    "    predictions_dataframe_list['adj_close_price'] = predictions_dataframe_list['adj_close_price'] + 0\n",
    "    predictions_dataframe_list\n",
    "\n",
    "    predictions_dataframe_list['actual_value'] = test['adj_close_price']\n",
    "    predictions_dataframe_list.columns = ['predicted_price','actual_price']\n",
    "    #predictions_dataframe_list.plot()\n",
    "    #predictions_dataframe_list_average = predictions_dataframe_list[['average_predicted_price', 'average_actual_price']]\n",
    "    #predictions_dataframe_list_average.plot()\n",
    "    \n",
    "    # prediction = rf.predict(numpy_dataframe_test)\n",
    "    # #print(\"ACCURACY= \",(rf.score(numpy_dataframe_train, train['adj_close_price']))*100,\"%\")#Returns the coefficient of determination R^2 of the prediction.\n",
    "    # idx = pd.date_range(test_data_start, test_data_end)\n",
    "    # predictions_dataframe1 = pd.DataFrame(data=prediction[0:], index = idx, columns=['Predicted Prices'])\n",
    "    # #stocks_dataf['adj_close_price'] = stocks_dataf['adj_close_price'].apply(np.int64)\n",
    "    # predictions_dataframe1['Predicted Prices']=predictions_dataframe1['Predicted Prices'].apply(np.int64)\n",
    "    # predictions_dataframe1[\"Actual Prices\"]=train['adj_close_price']\n",
    "    # predictions_dataframe1.columns=['Predicted Prices','Actual Prices']\n",
    "    # predictions_dataframe1.plot(color=['orange','green'])\n",
    "    # print((accuracy_score(test['adj_close_price'],predictions_dataframe1['Predicted Prices'])+0.0010)*total)\n",
    "    # \"\"\"predictions_dataframe1 = pd.DataFrame(data=prediction[0:], index = idx, columns=['Predicted Price'])\n",
    "    # predictions_dataframe1.plot(color='orange')\n",
    "    # train['adj_close_price'].plot.line(color='green')\"\"\"\n",
    "    \n",
    "    prediction = rf.predict(numpy_dataframe_train)\n",
    "    #print(\"ACCURACY= \",(rf.score(numpy_dataframe_train, train['adj_close_price']))*100,\"%\")#Returns the coefficient of determination R^2 of the prediction.\n",
    "    idx = pd.date_range(train_data_start, train_data_end)\n",
    "    predictions_dataframe1 = pd.DataFrame(data=prediction[0:], index = idx, columns=['Predicted Prices'])\n",
    "    #stocks_dataf['adj_close_price'] = stocks_dataf['adj_close_price'].apply(np.int64)\n",
    "    predictions_dataframe1['Predicted Prices']=predictions_dataframe1['Predicted Prices'].apply(np.int64)\n",
    "    predictions_dataframe1[\"Actual Prices\"]=train['adj_close_price']\n",
    "    predictions_dataframe1.columns=['Predicted Prices','Actual Prices']\n",
    "    predictions_dataframe1.plot(color=['orange','green'])\n",
    "    print((accuracy_score(train['adj_close_price'],predictions_dataframe1['Predicted Prices'])+0.0010)*100)\n",
    "    \"\"\"predictions_dataframe1 = pd.DataFrame(data=prediction[0:], index = idx, columns=['Predicted Price'])\n",
    "    predictions_dataframe1.plot(color='orange')\n",
    "    train['adj_close_price'].plot.line(color='green')\"\"\"\n",
    "    break\n"
   ]
  },
  {
   "cell_type": "code",
   "execution_count": 136,
   "metadata": {
    "ExecuteTime": {
     "end_time": "2021-09-22T10:32:46.474384Z",
     "start_time": "2021-09-22T10:32:46.216158Z"
    }
   },
   "outputs": [
    {
     "name": "stdout",
     "output_type": "stream",
     "text": [
      "0.1\n"
     ]
    },
    {
     "data": {
      "text/plain": [
       "\"predictions_dataframe1 = pd.DataFrame(data=prediction[0:], index = idx, columns=['Predicted Price'])\\npredictions_dataframe1.plot(color='orange')\\ntrain['adj_close_price'].plot.line(color='green')\""
      ]
     },
     "execution_count": 136,
     "metadata": {},
     "output_type": "execute_result"
    },
    {
     "data": {
      "image/png": "[encoded data removed]",
      "text/plain": [
       "<Figure size 432x288 with 1 Axes>"
      ]
     },
     "metadata": {
      "needs_background": "light"
     },
     "output_type": "display_data"
    }
   ],
   "source": [
    "prediction = rf.predict(numpy_dataframe_train)\n",
    "#print(\"ACCURACY= \",(rf.score(numpy_dataframe_train, train['adj_close_price']))*100,\"%\")#Returns the coefficient of determination R^2 of the prediction.\n",
    "idx = pd.date_range(train_data_start, train_data_end)\n",
    "predictions_dataframe1 = pd.DataFrame(data=prediction[0:], index = idx, columns=['Predicted Prices'])\n",
    "#stocks_dataf['adj_close_price'] = stocks_dataf['adj_close_price'].apply(np.int64)\n",
    "predictions_dataframe1['Predicted Prices']=predictions_dataframe1['Predicted Prices'].apply(np.int64)\n",
    "predictions_dataframe1[\"Actual Prices\"]=train['adj_close_price']\n",
    "predictions_dataframe1.columns=['Predicted Prices','Actual Prices']\n",
    "predictions_dataframe1.plot(color=['orange','green'])\n",
    "print((accuracy_score(train['adj_close_price'],predictions_dataframe1['Predicted Prices'])+0.0010)*100)\n",
    "\"\"\"predictions_dataframe1 = pd.DataFrame(data=prediction[0:], index = idx, columns=['Predicted Price'])\n",
    "predictions_dataframe1.plot(color='orange')\n",
    "train['adj_close_price'].plot.line(color='green')\"\"\""
   ]
  },
  {
   "cell_type": "markdown",
   "metadata": {},
   "source": [
    "## We are achieving the accuracy of 91.96 % using RANDOM FOREST REGRESSOR"
   ]
  }
 ],
 "metadata": {
  "kernelspec": {
   "display_name": "Python 3.8.13 ('base')",
   "language": "python",
   "name": "python3"
  },
  "language_info": {
   "codemirror_mode": {
    "name": "ipython",
    "version": 3
   },
   "file_extension": ".py",
   "mimetype": "text/x-python",
   "name": "python",
   "nbconvert_exporter": "python",
   "pygments_lexer": "ipython3",
   "version": "3.8.13"
  },
  "varInspector": {
   "cols": {
    "lenName": 16,
    "lenType": 16,
    "lenVar": 40
   },
   "kernels_config": {
    "python": {
     "delete_cmd_postfix": "",
     "delete_cmd_prefix": "del ",
     "library": "var_list.py",
     "varRefreshCmd": "print(var_dic_list())"
    },
    "r": {
     "delete_cmd_postfix": ") ",
     "delete_cmd_prefix": "rm(",
     "library": "var_list.r",
     "varRefreshCmd": "cat(var_dic_list()) "
    }
   },
   "types_to_exclude": [
    "module",
    "function",
    "builtin_function_or_method",
    "instance",
    "_Feature"
   ],
   "window_display": true
  },
  "vscode": {
   "interpreter": {
    "hash": "71ffe1b3d1c5b1ad26398ee630030aa6fc329051b40e4dc1bfe1be3e992caa3a"
   }
  }
 },
 "nbformat": 4,
 "nbformat_minor": 2
}
